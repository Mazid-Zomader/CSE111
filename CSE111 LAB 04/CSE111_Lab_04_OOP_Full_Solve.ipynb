{
 "cells": [
  {
   "cell_type": "markdown",
   "metadata": {},
   "source": [
    "**01**"
   ]
  },
  {
   "cell_type": "code",
   "execution_count": 35,
   "metadata": {},
   "outputs": [
    {
     "name": "stdout",
     "output_type": "stream",
     "text": [
      "1-------------------------\n",
      "Welcome to ABC Memorial Park\n",
      "2-------------------------\n",
      "Successfully purchased a ticket for Bob!\n",
      "Successfully purchased a ticket for Henry!\n",
      "Successfully purchased a ticket for Alexa!\n",
      "You can't buy more than 3 tickets\n",
      "3-------------------------\n",
      "Amount of tickets : 3\n",
      "Total price : 250 taka\n",
      "4-------------------------\n",
      "Welcome to ABC Memorial Park\n",
      "5-------------------------\n",
      "Successfully purchased a ticket for Harry!\n",
      "Successfully purchased a ticket for Tomas!\n",
      "6-------------------------\n",
      "Amount of tickets : 2\n",
      "Total price : 200 taka\n"
     ]
    }
   ],
   "source": [
    "class Customer:\n",
    "    def __init__(self) :\n",
    "        print('Welcome to ABC Memorial Park')\n",
    "        self.count = 0\n",
    "        self.price = 0\n",
    "    def buyTicket(self,nam,Age) :\n",
    "        self.name = nam\n",
    "        self.age = Age\n",
    "        self.count += 1\n",
    "        if self.count <= 3  :\n",
    "            print(f'Successfully purchased a ticket for {self.name}!')\n",
    "            if self.age > 10 :\n",
    "                self.price += 100\n",
    "            else :\n",
    "                self.price += 50\n",
    "        else :\n",
    "            print(f\"You can't buy more than 3 tickets\")\n",
    "    def showDetails(self) :\n",
    "        if self.count > 3 :\n",
    "            print(f'Amount of tickets : 3')\n",
    "        else :\n",
    "            print(f'Amount of tickets : {self.count}')\n",
    "        print(f'Total price : {self.price} taka')\n",
    "            \n",
    "        \n",
    "        \n",
    "        \n",
    "    \n",
    "# Driver Code\n",
    "print('1-------------------------')\n",
    "customer1 = Customer()\n",
    "print('2-------------------------')\n",
    "customer1.buyTicket('Bob', 23)\n",
    "customer1.buyTicket('Henry', 7)\n",
    "customer1.buyTicket('Alexa', 30)\n",
    "customer1.buyTicket('Jonas', 43)\n",
    "print('3-------------------------')\n",
    "customer1.showDetails()\n",
    "print('4-------------------------')\n",
    "customer2 = Customer()\n",
    "print('5-------------------------')\n",
    "customer2.buyTicket('Harry', 60)\n",
    "customer2.buyTicket('Tomas', 28)\n",
    "print('6-------------------------')\n",
    "customer2.showDetails()"
   ]
  },
  {
   "cell_type": "markdown",
   "metadata": {},
   "source": [
    "**02**"
   ]
  },
  {
   "cell_type": "code",
   "execution_count": 24,
   "metadata": {},
   "outputs": [
    {
     "name": "stdout",
     "output_type": "stream",
     "text": [
      "Kunfu is a Male Panda Bear who is 5 years old\n",
      "Pan Pan is a Female Panda Bear who is 3 years old\n",
      "Ming Ming is a Female Panda Bear who is 8 years old\n",
      "===========================\n",
      "Pan Pan sleeps 10 hours daily and should have Brocolli Chicken\n",
      "Kunfu sleeps 4 hours daily and should have Mixed Vegetables\n",
      "Ming Ming sleeps 13 hours daily and should have Bamboo Leaves\n"
     ]
    }
   ],
   "source": [
    "# Design\n",
    "class Panda :\n",
    "    def __init__(self, nam , gend , Age) :\n",
    "        self.name = nam\n",
    "        self.gender = gend\n",
    "        self.age = Age\n",
    "        self.sleep_time = 0\n",
    "    \n",
    "    def sleep(self,time) :\n",
    "        self.sleep_time = time\n",
    "        if self.sleep_time >= 3 and self.sleep_time <= 5 :\n",
    "            return(f'{self.name} sleeps {self.sleep_time} hours daily and should have Mixed Vegetables')\n",
    "        elif self.sleep_time >= 6 and self.sleep_time <= 8 :\n",
    "            return(f'{self.name} sleeps {self.sleep_time} hours daily and should have Eggplant & Tofu')\n",
    "        elif self.sleep_time >= 9 and self.sleep_time <= 11 :\n",
    "            return(f'{self.name} sleeps {self.sleep_time} hours daily and should have Brocolli Chicken')\n",
    "        else :\n",
    "            return(f'{self.name} sleeps {self.sleep_time} hours daily and should have Bamboo Leaves')\n",
    "\n",
    "# Driver Code\n",
    "panda1 = Panda(\"Kunfu\", \"Male\", 5)\n",
    "panda2 = Panda(\"Pan Pan\", \"Female\",3)\n",
    "panda3 = Panda(\"Ming Ming\", \"Female\",8)\n",
    "print(\"{} is a {} Panda Bear who is {} years old\".format(panda1.name,panda1.gender,panda1.age))\n",
    "print(\"{} is a {} Panda Bear who is {} years old\".format(panda2.name,panda2.gender,panda2.age))\n",
    "print(\"{} is a {} Panda Bear who is {} years old\".format(panda3.name,panda3.gender,panda3.age))\n",
    "print(\"===========================\")\n",
    "print(panda2.sleep(10))\n",
    "print(panda1.sleep(4))\n",
    "print(panda3.sleep(13))"
   ]
  },
  {
   "cell_type": "markdown",
   "metadata": {},
   "source": [
    "**03**"
   ]
  },
  {
   "cell_type": "code",
   "execution_count": 25,
   "metadata": {},
   "outputs": [
    {
     "name": "stdout",
     "output_type": "stream",
     "text": [
      "1=======================\n",
      "Phone Company : Greenphone\n",
      "Model Name : A1\n",
      "Android Version : 12\n",
      "Number of cameras : 3\n",
      "2=======================\n",
      "Phone Company : Greenphone\n",
      "Model Name : M11\n",
      "Android Version : 12\n",
      "Number of cameras : 4\n",
      "3=======================\n",
      "Your phone Greenphone A1 is upgraded to Android Version : 13\n",
      "4=======================\n",
      "Your phone Greenphone A1 is upgraded to Android Version : 14\n",
      "Your phone Greenphone M11 is upgraded to Android Version : 13\n",
      "Your phone Greenphone U20 is upgraded to Android Version : 13\n",
      "5=======================\n",
      "Your phone Greenphone A1 is already up to date.\n",
      "Your phone Greenphone M11 is upgraded to Android Version : 14\n",
      "Your phone Greenphone U20 is upgraded to Android Version : 14\n",
      "6=======================\n",
      "Your phone Greenphone M11 is upgraded to Android Version : 15\n",
      "Your phone Greenphone U20 is upgraded to Android Version : 15\n",
      "7=======================\n",
      "Phone Company : Greenphone\n",
      "Model Name : A1\n",
      "Android Version : 14\n",
      "Number of cameras : 3\n",
      "Phone Company : Greenphone\n",
      "Model Name : U20\n",
      "Android Version : 15\n",
      "Number of cameras : 5\n"
     ]
    }
   ],
   "source": [
    "# Design\n",
    "class GreenPhone :\n",
    "    def __init__(self , mod , an_ver , cam) :\n",
    "        self.model = mod\n",
    "        self.android_version = an_ver\n",
    "        self.first_android_version = an_ver\n",
    "        self.camera = cam\n",
    "    def showSpecification(self) :\n",
    "        print('Phone Company : Greenphone')\n",
    "        print(f\"Model Name : {self.model}\")\n",
    "        print(f'Android Version : {self.android_version}')\n",
    "        print(f'Number of cameras : {self.camera}')\n",
    "    def updatePhone(self) :\n",
    "        self.android_version += 1\n",
    "        if self.model[0] == 'A' :\n",
    "            if (self.android_version-self.first_android_version) <= 2 :\n",
    "                print(f\"Your phone Greenphone {self.model} is upgraded to Android Version : {self.android_version}\")\n",
    "            else :\n",
    "                print(f'Your phone Greenphone {self.model} is already up to date.')\n",
    "                self.android_version -= 1\n",
    "        elif self.model[0] == 'M' :\n",
    "            if (self.android_version-self.first_android_version) <= 3 :\n",
    "                print(f\"Your phone Greenphone {self.model} is upgraded to Android Version : {self.android_version}\")\n",
    "            else :\n",
    "                print(f'Your phone Greenphone {self.model} is already up to date.')\n",
    "                self.android_version -= 1\n",
    "        elif self.model[0] == 'U' :\n",
    "            if (self.android_version-self.first_android_version) <= 4 :\n",
    "                print(f\"Your phone Greenphone {self.model} is upgraded to Android Version : {self.android_version}\")\n",
    "            else :\n",
    "                print(f'Your phone Greenphone {self.model} is already up to date.')\n",
    "                self.android_version -= 1\n",
    "# Driver Code\n",
    "print('1=======================')\n",
    "p1 = GreenPhone('A1', 12, 3)\n",
    "p2 = GreenPhone('M11', 12, 4)\n",
    "p3 = GreenPhone('U20', 12, 5)\n",
    "p1.showSpecification()\n",
    "print('2=======================')\n",
    "p2.showSpecification()\n",
    "print('3=======================')\n",
    "p1.updatePhone()\n",
    "print('4=======================')\n",
    "p1.updatePhone()\n",
    "p2.updatePhone()\n",
    "p3.updatePhone()\n",
    "print('5=======================')\n",
    "p1.updatePhone()\n",
    "p2.updatePhone()\n",
    "p3.updatePhone()\n",
    "print('6=======================')\n",
    "p2.updatePhone()\n",
    "p3.updatePhone()\n",
    "print('7=======================')\n",
    "p1.showSpecification()\n",
    "p3.showSpecification()"
   ]
  },
  {
   "cell_type": "markdown",
   "metadata": {},
   "source": [
    "**04**"
   ]
  },
  {
   "cell_type": "code",
   "execution_count": 26,
   "metadata": {},
   "outputs": [
    {
     "name": "stdout",
     "output_type": "stream",
     "text": [
      "Grades for Pietro\n",
      "{'Summer2020': {('CSE230', 'CSE220', 'MAT110'): 4.0}, 'Summer2021': {('CSE250', 'CSE330'): 3.85}}\n",
      "---------------------------------\n",
      "Name : Pietro\n",
      "ID : 10101222\n",
      "Courses taken in Summer2020 : \n",
      "CSE230\n",
      "CSE220\n",
      "MAT110\n",
      "GPA : 4.0\n",
      "Courses taken in Summer2021 : \n",
      "CSE250\n",
      "CSE330\n",
      "GPA : 3.85\n",
      "---------------------------------\n",
      "Grades for Wanda\n",
      "{'Summer2022': {('CSE111', 'CSE260', 'ENG101'): 3.8}}\n",
      "---------------------------------\n",
      "Name : Wanda\n",
      "ID : 10103332\n",
      "Courses taken in Summer2022 : \n",
      "CSE111\n",
      "CSE260\n",
      "ENG101\n",
      "GPA : 3.8\n"
     ]
    }
   ],
   "source": [
    "class StudentDatabase :\n",
    "    def __init__(self , name , ID) :\n",
    "        self.name = name\n",
    "        self.id = ID\n",
    "        self.grades = {}\n",
    "    def calculateGPA (self , course_grade , sem) :\n",
    "        course_seperator = []\n",
    "        grade_seperator = []\n",
    "        for index in range(len(course_grade)) :\n",
    "            a , b = course_grade[index].split(':')\n",
    "            grade_seperator.append(b)\n",
    "            course_seperator.append(a)\n",
    "        \n",
    "        total_grades = 0\n",
    "        for index2 in range(len(grade_seperator)) :\n",
    "            total_grades += (3*(float(grade_seperator[index2])))\n",
    "        total_grades = total_grades / (3*len(grade_seperator))\n",
    "        if sem in self.grades.keys() :\n",
    "            pass\n",
    "        else :\n",
    "            dict = {}\n",
    "            course_tuple = tuple(course_seperator)\n",
    "            dict[course_tuple] = round(total_grades , 2)\n",
    "            self.grades[sem] = dict\n",
    "    def printDetails(self) :\n",
    "        print(f'Name : {self.name}')\n",
    "        print(f'ID : {self.id}')\n",
    "        for index4 , index5 in self.grades.items() :\n",
    "            print(f'Courses taken in {index4} : ')\n",
    "            for index6 , index7 in index5.items() :\n",
    "                for index8 in range(len(index6)) :\n",
    "                    print(index6[index8]) \n",
    "                print(f'GPA : {round(index7 , 2)}')\n",
    "\n",
    "# Driver Code\n",
    "s1 = StudentDatabase('Pietro', '10101222')\n",
    "s1.calculateGPA(['CSE230: 4.0', 'CSE220: 4.0',\n",
    "'MAT110: 4.0'], 'Summer2020')\n",
    "s1.calculateGPA(['CSE250: 3.7', 'CSE330: 4.0'],\n",
    "'Summer2021')\n",
    "print(f'Grades for {s1.name}\\n{s1.grades}')\n",
    "print('---------------------------------')\n",
    "s1.printDetails()\n",
    "s2 = StudentDatabase('Wanda', '10103332')\n",
    "s2.calculateGPA(['CSE111: 3.7', 'CSE260: 3.7',\n",
    "'ENG101: 4.0'], 'Summer2022')\n",
    "print('---------------------------------')\n",
    "print(f'Grades for {s2.name}\\n{s2.grades}')\n",
    "print('---------------------------------')\n",
    "s2.printDetails()\n"
   ]
  },
  {
   "cell_type": "markdown",
   "metadata": {},
   "source": [
    "**TRACING**"
   ]
  },
  {
   "cell_type": "markdown",
   "metadata": {},
   "source": [
    "**05**"
   ]
  },
  {
   "cell_type": "code",
   "execution_count": 28,
   "metadata": {},
   "outputs": [
    {
     "name": "stdout",
     "output_type": "stream",
     "text": [
      "1 0\n",
      "405 302\n",
      "1 0\n",
      "1 0\n",
      "1209 704\n",
      "1 0\n"
     ]
    },
    {
     "data": {
      "text/plain": [
       "1"
      ]
     },
     "execution_count": 28,
     "metadata": {},
     "output_type": "execute_result"
    }
   ],
   "source": [
    "class Scope:\n",
    " def __init__(self):\n",
    "    self.x, self.y = 1, 100\n",
    " def met1(self):\n",
    "    x = 3\n",
    "    x = self.x + 1\n",
    "    self.y = self.y + self.x + 1\n",
    "    x = self.y + self.met2() + self.y\n",
    "    print(x, self.y)\n",
    " def met2(self):\n",
    "    y = 0\n",
    "    print(self.x, y)\n",
    "    self.x = self.x + y\n",
    "    self.y = self.y + 200\n",
    "    return self.x + y\n",
    "\n",
    "\n",
    "q2 = Scope()\n",
    "q2.met1()\n",
    "q2.met2()\n",
    "q2.met1()\n",
    "q2.met2()"
   ]
  },
  {
   "cell_type": "markdown",
   "metadata": {},
   "source": [
    "**06**"
   ]
  },
  {
   "cell_type": "code",
   "execution_count": 31,
   "metadata": {},
   "outputs": [
    {
     "name": "stdout",
     "output_type": "stream",
     "text": [
      "36 3 39\n",
      "9 3 18\n",
      "36 6 60\n",
      "15 6 30\n",
      "36 9 75\n",
      "21 9 42\n",
      "36 12 90\n",
      "27 12 54\n"
     ]
    }
   ],
   "source": [
    "class Test3:\n",
    " def __init__(self):\n",
    "    self.sum, self.y = 0, 0\n",
    " def methodA(self):\n",
    "    x, y = 2, 3\n",
    "    msg = [0]\n",
    "    msg[0] = 3\n",
    "    y = self.y + msg[0]\n",
    "    self.methodB(msg, msg[0])\n",
    "    x = self.y + msg[0]\n",
    "    self.sum = x + y + msg[0]\n",
    "    print(x, y, self.sum)\n",
    " def methodB(self, mg2, mg1):\n",
    "    x = 0\n",
    "    self.y = self.y + mg2[0]\n",
    "    x = x + 33 + mg1\n",
    "    self.sum = self.sum + x + self.y\n",
    "    mg2[0] = self.y + mg1\n",
    "    mg1 = mg1 + x + 2\n",
    "    print(x, self.y, self.sum)\n",
    "\n",
    "t3 = Test3()\n",
    "t3.methodA()\n",
    "t3.methodA()\n",
    "t3.methodA()\n",
    "t3.methodA()"
   ]
  },
  {
   "cell_type": "markdown",
   "metadata": {},
   "source": [
    "**07**"
   ]
  },
  {
   "cell_type": "code",
   "execution_count": 34,
   "metadata": {},
   "outputs": [
    {
     "name": "stdout",
     "output_type": "stream",
     "text": [
      "2 4 7\n",
      "7 10 24\n",
      "11 4 39\n",
      "13 16 68\n",
      "17 10 95\n"
     ]
    }
   ],
   "source": [
    "class FinalT6A:\n",
    " def __init__(self, x, p):\n",
    "    self.temp, self.sum, self.y = 4, 0, 1\n",
    "    self.temp += 1\n",
    "    self.y = self.temp - p\n",
    "    self.sum = self.temp + x\n",
    "    print(x, self.y, self.sum)\n",
    " def methodA(self):\n",
    "    x = 0\n",
    "    y = 0\n",
    "    y = y + self.y\n",
    "    x = self.y + 2 + self.temp\n",
    "    self.sum = x + y + self.methodB(self.temp, y)\n",
    "    print(x, y, self.sum)\n",
    " def methodB(self, temp, n):\n",
    "    x = 0\n",
    "    temp += 1\n",
    "    self.y = self.y + temp\n",
    "    x = x + 3 + n\n",
    "    self.sum = self.sum + x + self.y\n",
    "    print(x, self.y, self.sum)\n",
    "    return self.sum\n",
    "\n",
    "q1 = FinalT6A(2,1)\n",
    "q1.methodA()\n",
    "q1.methodA()"
   ]
  }
 ],
 "metadata": {
  "kernelspec": {
   "display_name": "Python 3",
   "language": "python",
   "name": "python3"
  },
  "language_info": {
   "codemirror_mode": {
    "name": "ipython",
    "version": 3
   },
   "file_extension": ".py",
   "mimetype": "text/x-python",
   "name": "python",
   "nbconvert_exporter": "python",
   "pygments_lexer": "ipython3",
   "version": "3.12.2"
  }
 },
 "nbformat": 4,
 "nbformat_minor": 2
}
