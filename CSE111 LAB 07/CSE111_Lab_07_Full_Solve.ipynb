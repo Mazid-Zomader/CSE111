{
 "cells": [
  {
   "cell_type": "markdown",
   "metadata": {},
   "source": [
    "**Task 01**"
   ]
  },
  {
   "cell_type": "code",
   "execution_count": 1,
   "metadata": {},
   "outputs": [
    {
     "name": "stdout",
     "output_type": "stream",
     "text": [
      "First circle radius: 4\n",
      "First circle area: 50.2656\n",
      "Second circle radius: 5\n",
      "Second circle area: 78.53999999999999\n"
     ]
    }
   ],
   "source": [
    "class Circle :\n",
    "    def __init__(self, radius) :\n",
    "        self.__radius = radius\n",
    "    def getRadius(self) :\n",
    "        return self.__radius\n",
    "    def setRadius(self, new_radius) :\n",
    "        self.__radius = new_radius\n",
    "    def area(self) :\n",
    "        area = 3.1416 * (self.__radius ** 2)\n",
    "        return area\n",
    "#Driver Code\n",
    "c1 = Circle(4)\n",
    "print(\"First circle radius:\", c1.getRadius())\n",
    "print(\"First circle area:\", c1.area())\n",
    "c2 = Circle(5)\n",
    "print(\"Second circle radius:\", c2.getRadius())\n",
    "print(\"Second circle area:\", c2.area())"
   ]
  },
  {
   "cell_type": "markdown",
   "metadata": {},
   "source": [
    "**Task 02**\n"
   ]
  },
  {
   "cell_type": "code",
   "execution_count": 2,
   "metadata": {},
   "outputs": [
    {
     "name": "stdout",
     "output_type": "stream",
     "text": [
      "First Triangle Base: 10\n",
      "First Triangle Height: 5\n",
      "First Triangle area: 25.0\n",
      "Second Triangle Base: 5\n",
      "Second Triangle Height: 3\n",
      "Second Triangle area: 7.5\n"
     ]
    }
   ],
   "source": [
    "class Triangle:\n",
    "    def __init__(self , base , height):\n",
    "        self.__base = base \n",
    "        self.__height = height\n",
    "    def getBase(self):\n",
    "        return self.__base\n",
    "    def getHeight(self):\n",
    "        return self.__height\n",
    "    def setBase(self , new_base):\n",
    "        self.__base = new_base\n",
    "    def setHeight(self, new_height):\n",
    "        self.__height = new_height\n",
    "    def area(self) :\n",
    "        return 0.5 * self.__base * self.__height\n",
    "# Driver Code\n",
    "t1 = Triangle(10, 5)\n",
    "print(\"First Triangle Base:\" , t1.getBase())\n",
    "print(\"First Triangle Height:\" , t1.getHeight())\n",
    "print(\"First Triangle area:\" ,t1.area())\n",
    "t2 = Triangle(5, 3)\n",
    "print(\"Second Triangle Base:\" , t2.getBase())\n",
    "print(\"Second Triangle Height:\" , t2.getHeight())\n",
    "print(\"Second Triangle area:\" ,t2.area())"
   ]
  },
  {
   "cell_type": "markdown",
   "metadata": {},
   "source": [
    "**Task 03**"
   ]
  },
  {
   "cell_type": "code",
   "execution_count": 3,
   "metadata": {},
   "outputs": [
    {
     "name": "stdout",
     "output_type": "stream",
     "text": [
      "=====================\n",
      "Team : Bangladesh\n",
      "List of Players:\n",
      "['Mashrafi', 'Tamim']\n",
      "=====================\n",
      "=====================\n",
      "Team : Australia\n",
      "List of Players:\n",
      "['Ponting', 'Lee']\n",
      "=====================\n"
     ]
    }
   ],
   "source": [
    "class Team:\n",
    "    def __init__(self , name = None):\n",
    "        self.__name = name\n",
    "        self.__list = []\n",
    "    def getPlayer(self):\n",
    "        return (self.__list)\n",
    "    def addPlayer (self , pl_loc) :\n",
    "        self.__list.append(pl_loc.name)\n",
    "    def setName(self , name ):\n",
    "        self.__name = name\n",
    "    def printDetail(self) :\n",
    "        print(\"=====================\")\n",
    "        print(f'Team : {self.__name}')\n",
    "        print(\"List of Players:\")\n",
    "        print(self.__list)\n",
    "        print(\"=====================\")\n",
    "\n",
    "class Player :\n",
    "    def __init__(self, name) :\n",
    "        self.name = name\n",
    "\n",
    "#Driver Code\n",
    "b = Team()\n",
    "b.setName('Bangladesh')\n",
    "mashrafi = Player(\"Mashrafi\")\n",
    "b.addPlayer(mashrafi)\n",
    "tamim = Player(\"Tamim\")\n",
    "b.addPlayer(tamim)\n",
    "b.printDetail()\n",
    "a = Team(\"Australia\")\n",
    "ponting = Player(\"Ponting\")\n",
    "a.addPlayer(ponting)\n",
    "lee = Player(\"Lee\")\n",
    "a.addPlayer(lee)\n",
    "a.printDetail()"
   ]
  },
  {
   "cell_type": "markdown",
   "metadata": {},
   "source": [
    "**Task 04**"
   ]
  },
  {
   "cell_type": "code",
   "execution_count": 4,
   "metadata": {},
   "outputs": [
    {
     "name": "stdout",
     "output_type": "stream",
     "text": [
      "1.===================================\n",
      "2.===================================\n",
      "Spaceship Name: Falcon\n",
      "Capacity: 50000\n",
      "Current Cargo Weight: 45000\n",
      "Cargo: ['Gold', 'Platinum']\n",
      "3.===================================\n",
      "Spaceship Name: Apollo\n",
      "Capacity: 100000\n",
      "Current Cargo Weight: 20000\n",
      "Cargo: ['Gold']\n",
      "4.===================================\n",
      "Warning: Unable to load Neutronium inside\n",
      "Falcon. Exceeds capacity by 75000.\n",
      "5.===================================\n",
      "Spaceship Name: Enterprise\n",
      "Capacity: 220000\n",
      "Current Cargo Weight: 200000\n",
      "Cargo: ['Dilithium', 'Trilithium', 'Neutronium']\n"
     ]
    }
   ],
   "source": [
    "class Spaceship :\n",
    "    def __init__(self , name , capacity) :\n",
    "        self.name = name\n",
    "        self.capacity = capacity\n",
    "        self.filled_weight = 0\n",
    "        self.remained_weight = capacity\n",
    "        self.cargo_list = []\n",
    "    def load_cargo(self , item) :\n",
    "        if self.remained_weight > item.getWeight() :\n",
    "            self.remained_weight -= item.getWeight()\n",
    "            self.cargo_list.append(item.getName())\n",
    "            self.filled_weight += item.getWeight()\n",
    "        else :\n",
    "            print(f\"Warning: Unable to load {item.getName()} inside\")\n",
    "            print(f\"{self.name}. Exceeds capacity by {item.getWeight()-self.remained_weight}.\")\n",
    "    def display_details(self) :\n",
    "        print(f\"Spaceship Name: {self.name}\")\n",
    "        print(f\"Capacity: {self.capacity}\")\n",
    "        print(f\"Current Cargo Weight: {self.filled_weight}\")\n",
    "        print(f\"Cargo: {self.cargo_list}\")\n",
    "\n",
    "class Cargo:\n",
    "    def __init__(self , c_name , c_weight ):\n",
    "        self.__c_name = c_name\n",
    "        self.__c_weight = c_weight\n",
    "    def getName(self):\n",
    "        return self.__c_name\n",
    "    def getWeight(self) :\n",
    "        return self.__c_weight\n",
    "\n",
    "#Driver Code\n",
    "# Creating spaceships\n",
    "falcon = Spaceship(\"Falcon\", 50000)\n",
    "apollo = Spaceship(\"Apollo\", 100000)\n",
    "enterprise = Spaceship(\"Enterprise\", 220000)\n",
    "print(\"1.===================================\")\n",
    "# Creating cargo\n",
    "gold = Cargo(\"Gold\", 20000)\n",
    "platinum = Cargo(\"Platinum\", 25000)\n",
    "dilithium = Cargo(\"Dilithium\", 50000)\n",
    "trilithium = Cargo(\"Trilithium\", 70000)\n",
    "neutronium = Cargo(\"Neutronium\", 80000)\n",
    "print(\"2.===================================\")\n",
    "# Loading cargo onto spaceships\n",
    "falcon.load_cargo(gold)\n",
    "falcon.load_cargo(platinum)\n",
    "falcon.display_details()\n",
    "print(\"3.===================================\")\n",
    "apollo.load_cargo(gold) # Apollo will not reach its total capacity\n",
    "apollo.display_details()\n",
    "print(\"4.===================================\")\n",
    "falcon.load_cargo(neutronium) # This should exceed Falcon's capacity\n",
    "print(\"5.===================================\")\n",
    "enterprise.load_cargo(dilithium)\n",
    "enterprise.load_cargo(trilithium)\n",
    "enterprise.load_cargo(neutronium) # This should not exceed Enterprise's capacity\n",
    "enterprise.display_details()"
   ]
  },
  {
   "cell_type": "markdown",
   "metadata": {},
   "source": [
    "**Task 05**"
   ]
  },
  {
   "cell_type": "code",
   "execution_count": null,
   "metadata": {},
   "outputs": [],
   "source": []
  },
  {
   "cell_type": "markdown",
   "metadata": {},
   "source": [
    "**Task 06**"
   ]
  },
  {
   "cell_type": "code",
   "execution_count": null,
   "metadata": {},
   "outputs": [],
   "source": []
  }
 ],
 "metadata": {
  "kernelspec": {
   "display_name": "Python 3",
   "language": "python",
   "name": "python3"
  },
  "language_info": {
   "codemirror_mode": {
    "name": "ipython",
    "version": 3
   },
   "file_extension": ".py",
   "mimetype": "text/x-python",
   "name": "python",
   "nbconvert_exporter": "python",
   "pygments_lexer": "ipython3",
   "version": "3.12.2"
  }
 },
 "nbformat": 4,
 "nbformat_minor": 2
}
