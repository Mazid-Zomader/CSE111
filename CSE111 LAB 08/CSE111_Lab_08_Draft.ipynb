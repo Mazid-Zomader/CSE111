{
  "cells": [
    {
      "cell_type": "markdown",
      "metadata": {
        "id": "LaP36QFGGEN-"
      },
      "source": [
        "***Task 01***"
      ]
    },
    {
      "cell_type": "code",
      "execution_count": 3,
      "metadata": {
        "colab": {
          "base_uri": "https://localhost:8080/"
        },
        "id": "cOMnQYC7C333",
        "outputId": "d53bcd88-cd04-4326-8659-bba117571c5d"
      },
      "outputs": [
        {
          "name": "stdout",
          "output_type": "stream",
          "text": [
            "ID: 1\n",
            "Name: Samin\n",
            "Department: CSE\n",
            "Age: 21\n",
            "CGPA: 3.91\n",
            "-----------------------\n",
            "ID: 2\n",
            "Name: Fahim\n",
            "Department: ECE\n",
            "Age: 21\n",
            "CGPA: 3.85\n",
            "-----------------------\n",
            "ID: 3\n",
            "Name: Tahura\n",
            "Department: EEE\n",
            "Age: 22\n",
            "CGPA: 3.01\n",
            "-----------------------\n",
            "ID: 4\n",
            "Name: Sumaiya\n",
            "Department: BBA\n",
            "Age: 23\n",
            "CGPA: 3.96\n",
            "=========================================================================================\n",
            "\n",
            "\n",
            "Subtask 5\n",
            "Class variable belongs to class | Instance Variable belongs to object\n",
            "Class Variable will exist if there is any object created or not. If there is class , there will be class variable.\n",
            "But Instance Variable will not exist if there is no object created.\n",
            "Class variable has shared memory location, while Instance variable have individual memory lane.\n",
            "\n",
            "\n",
            "Subtask 6\n",
            "Instance Method: \n",
            "Instance method depend on an instance object. It have read and write access to the data of an object.\n",
            "Class Method:\n",
            "Class method depend on class and have read and write access to class varaibles. But they can't have read and write access to the data of an object\n"
          ]
        }
      ],
      "source": [
        "class Student :\n",
        "  ID = 0\n",
        "  def __init__(self , name , dept , age , cgpa) :\n",
        "    self.name = name\n",
        "    self.dept = dept\n",
        "    self.age = age\n",
        "    self.cgpa = cgpa\n",
        "    Student.ID += 1\n",
        "    self.ID = Student.ID\n",
        "  def showDetails(self) :\n",
        "    print(f\"ID: {self.ID}\")\n",
        "    print(f\"Name: {self.name}\")\n",
        "    print(f\"Department: {self.dept}\")\n",
        "    print(f\"Age: {self.age}\")\n",
        "    print(f\"CGPA: {self.cgpa}\")\n",
        "  @classmethod\n",
        "  def from_String(cls , details) :\n",
        "    details_split = details.split(\"-\")\n",
        "    obj = cls(details_split[0], details_split[1], int(details_split[2]), float(details_split[3]))\n",
        "    return obj\n",
        "\n",
        "#Driver Code\n",
        "s1 = Student(\"Samin\", \"CSE\", 21, 3.91)\n",
        "s1.showDetails()\n",
        "print(\"-----------------------\")\n",
        "s2 = Student(\"Fahim\", \"ECE\", 21, 3.85)\n",
        "s2.showDetails()\n",
        "print(\"-----------------------\")\n",
        "s3 = Student(\"Tahura\", \"EEE\", 22, 3.01)\n",
        "s3.showDetails()\n",
        "print(\"-----------------------\")\n",
        "s4 = Student.from_String(\"Sumaiya-BBA-23-3.96\")\n",
        "s4.showDetails()\n",
        "print(\"=========================================================================================\")\n",
        "print()\n",
        "print()\n",
        "print(\"Subtask 5\")\n",
        "print(\"Class variable belongs to class | Instance Variable belongs to object\\nClass Variable will exist if there is any object created or not. If there is class , there will be class variable.\")\n",
        "print(\"But Instance Variable will not exist if there is no object created.\")\n",
        "print(\"Class variable has shared memory location, while Instance variable have individual memory lane.\")\n",
        "print()\n",
        "print()\n",
        "print(\"Subtask 6\")\n",
        "print(\"Instance Method: \\nInstance method depend on an instance object. It have read and write access to the data of an object.\")\n",
        "print(\"Class Method:\\nClass method depend on class and have read and write access to class varaibles. But they can't have read and write access to the data of an object\")"
      ]
    },
    {
      "cell_type": "markdown",
      "metadata": {
        "id": "OnTMfYdyGLC2"
      },
      "source": [
        "***Task 02***"
      ]
    },
    {
      "cell_type": "code",
      "execution_count": 2,
      "metadata": {
        "id": "oIuYZz3bGDDH"
      },
      "outputs": [
        {
          "name": "stdout",
          "output_type": "stream",
          "text": [
            "Total Passenger: 0\n",
            "=========================\n",
            "Name: Jack\n",
            "Bus Fare: 550 taka\n",
            "=========================\n",
            "Name: Carol\n",
            "Bus Fare: 450 taka\n",
            "=========================\n",
            "Name: Mike\n",
            "Bus Fare: 500 taka\n",
            "=========================\n",
            "Total Passenger: 3\n"
          ]
        }
      ],
      "source": [
        "class Passenger :\n",
        "  count = 0\n",
        "  def __init__(self, name) :\n",
        "    self.name = name\n",
        "    Passenger.count += 1\n",
        "    self.fare = 450\n",
        "  def set_bag_weight (self , weight) :\n",
        "    if weight > 20 and weight <= 50 :\n",
        "      self.fare += 50\n",
        "    elif weight > 50 :\n",
        "      self.fare += 100\n",
        "    else :\n",
        "      pass\n",
        "  def printDetail(self) :\n",
        "    print(f\"Name: {self.name}\")\n",
        "    print(f\"Bus Fare: {self.fare} taka\")\n",
        "#Driver Code\n",
        "print(\"Total Passenger:\", Passenger.count)\n",
        "p1 = Passenger(\"Jack\")\n",
        "p1.set_bag_weight(90)\n",
        "p2 = Passenger(\"Carol\")\n",
        "p2.set_bag_weight(10)\n",
        "p3 = Passenger(\"Mike\")\n",
        "p3.set_bag_weight(25)\n",
        "print(\"=========================\")\n",
        "p1.printDetail()\n",
        "print(\"=========================\")\n",
        "p2.printDetail()\n",
        "print(\"=========================\")\n",
        "p3.printDetail()\n",
        "print(\"=========================\")\n",
        "print(\"Total Passenger:\", Passenger.count)\n",
        "\n"
      ]
    },
    {
      "cell_type": "markdown",
      "metadata": {},
      "source": [
        "***Task 03***"
      ]
    },
    {
      "cell_type": "code",
      "execution_count": 2,
      "metadata": {},
      "outputs": [
        {
          "name": "stdout",
          "output_type": "stream",
          "text": [
            "No. of Traveller = 0\n",
            "=======================\n",
            "Source: Dhaka\n",
            "Destination: India\n",
            "Flight Time: 1:00\n",
            "=======================\n",
            "Source: Kuala Lampur\n",
            "Destination: Dhaka\n",
            "Flight Time: 23:00\n",
            "=======================\n",
            "Source: Dhaka\n",
            "Destination: Germany\n",
            "Flight Time: 15:00\n",
            "=======================\n",
            "Source: Malaysia\n",
            "Destination: Canada\n",
            "Flight Time: 9:00\n",
            "=======================\n",
            "No. of Traveller = 4\n"
          ]
        }
      ],
      "source": [
        "class Travel:\n",
        "    count = 0\n",
        "    def __init__(self , source , dest) :\n",
        "        self.source = source\n",
        "        self.destination = dest\n",
        "        Travel.count += 1\n",
        "        self.time = \"1:00\"\n",
        "    def display_travel_info(self) :\n",
        "        return (f\"Source: {self.source}\\nDestination: {self.destination}\\nFlight Time: {self.time}\")\n",
        "    def set_time(self , new_time) :\n",
        "        self.time = f\"{new_time}:00\"\n",
        "    def set_destination(self , new_dest):\n",
        "        self.destination = new_dest\n",
        "    def set_source(self , new_source):\n",
        "        self.source = new_source\n",
        "\n",
        "#Driver Code\n",
        "print(\"No. of Traveller =\", Travel.count)\n",
        "print(\"=======================\")\n",
        "t1 = Travel(\"Dhaka\",\"India\")\n",
        "print(t1.display_travel_info())\n",
        "print(\"=======================\")\n",
        "t2 = Travel(\"Kuala Lampur\",\"Dhaka\")\n",
        "t2.set_time(23)\n",
        "print(t2.display_travel_info())\n",
        "print(\"=======================\")\n",
        "t3 = Travel(\"Dhaka\",\"New_Zealand\")\n",
        "t3.set_time(15)\n",
        "t3.set_destination(\"Germany\")\n",
        "print(t3.display_travel_info())\n",
        "print(\"=======================\")\n",
        "t4 = Travel(\"Dhaka\",\"India\")\n",
        "t4.set_time(9)\n",
        "t4.set_source(\"Malaysia\")\n",
        "t4.set_destination(\"Canada\")\n",
        "print(t4.display_travel_info())\n",
        "print(\"=======================\")\n",
        "print(\"No. of Traveller =\", Travel.count)"
      ]
    },
    {
      "cell_type": "markdown",
      "metadata": {},
      "source": [
        "***Task 04***"
      ]
    },
    {
      "cell_type": "code",
      "execution_count": 5,
      "metadata": {},
      "outputs": [
        {
          "name": "stdout",
          "output_type": "stream",
          "text": [
            "Total Student(s): 0\n",
            "BRAC University Student(s): 0\n",
            "Other Institution Student(s): 0\n",
            "#########################\n",
            "Name: Mikasa Ackerman\n",
            "Department: CSE\n",
            "Institution: BRAC University\n",
            "------------------------------------------\n",
            "Total Student(s): 1\n",
            "BRAC University Student(s): 1\n",
            "Other Institution Student(s): 0\n",
            "========================\n",
            "Name: Harry Potter\n",
            "Department: Defence Against Dark Arts\n",
            "Institution: Hogwarts School\n",
            "-------------------------------------------\n",
            "Total Student(s): 2\n",
            "BRAC University Student(s): 1\n",
            "Other Institution Student(s): 1\n",
            "=========================\n",
            "Name: Levi Ackerman\n",
            "Department: CSE\n",
            "Institution: BRAC University\n",
            "--------------------------------------------\n",
            "Total Student(s): 3\n",
            "BRAC University Student(s): 2\n",
            "Other Institution Student(s): 1\n"
          ]
        }
      ],
      "source": [
        "class Student:\n",
        "    total = 0\n",
        "    bracu = 0\n",
        "    others = 0\n",
        "    def __init__(self , name , dept , uni  = \"BRAC University\"):\n",
        "        self.name = name\n",
        "        self.dept = dept\n",
        "        self.university = uni\n",
        "        if self.university == \"BRAC University\":\n",
        "            Student.bracu += 1\n",
        "        else :\n",
        "            Student.others += 1\n",
        "        Student.total += 1\n",
        "    @classmethod\n",
        "    def printDetails(cls) :\n",
        "        print(f\"Total Student(s): {cls.total}\")\n",
        "        print(f\"BRAC University Student(s): {cls.bracu}\")\n",
        "        print(f\"Other Institution Student(s): {cls.others}\")\n",
        "    @classmethod\n",
        "    def createStudent(cls, name , dept , uni = \"BRAC University\"):\n",
        "        obj = Student(name, dept , uni)\n",
        "        return obj\n",
        "    def individualDetail(self) :\n",
        "        print(f\"Name: {self.name}\")\n",
        "        print(f\"Department: {self.dept}\")\n",
        "        print(f\"Institution: {self.university}\")\n",
        "\n",
        "#Driver Code\n",
        "Student.printDetails()\n",
        "print('#########################')\n",
        "mikasa = Student('Mikasa Ackerman', \"CSE\")\n",
        "mikasa.individualDetail()\n",
        "print('------------------------------------------')\n",
        "Student.printDetails()\n",
        "print('========================')\n",
        "harry = Student.createStudent('Harry Potter', \"Defence Against Dark Arts\", \"Hogwarts School\")\n",
        "harry.individualDetail()\n",
        "print('-------------------------------------------')\n",
        "Student.printDetails()\n",
        "print('=========================')\n",
        "levi = Student.createStudent(\"Levi Ackerman\", \"CSE\")\n",
        "levi.individualDetail()\n",
        "print('--------------------------------------------')\n",
        "Student.printDetails()"
      ]
    },
    {
      "cell_type": "markdown",
      "metadata": {},
      "source": [
        "***Task 5 (Tracing)***\n"
      ]
    },
    {
      "cell_type": "code",
      "execution_count": 25,
      "metadata": {},
      "outputs": [
        {
          "name": "stdout",
          "output_type": "stream",
          "text": [
            "5 7 17\n",
            "5 -16 -11\n",
            "-7 -2 -20\n",
            "9 -21 -32\n",
            "12 2 14\n",
            "2 5 21\n"
          ]
        }
      ],
      "source": [
        "class A:\n",
        "    temp = 4\n",
        "    def __init__(self):\n",
        "        self.y = self.temp - 2\n",
        "        self.sum = self.temp + 1\n",
        "        A.temp -= 2\n",
        "        self.methodA(3, 4)\n",
        "    def methodA(self, m, n):\n",
        "        x = 0\n",
        "        self.y = self.y + m + (self.temp)\n",
        "        A.temp += 1\n",
        "        x = x + 1 + n\n",
        "        self.sum = self.sum + x + self.y\n",
        "        print(x, self.y, self.sum)\n",
        "\n",
        "class B:\n",
        "    x = 0\n",
        "    def __init__(self, b = None):\n",
        "        self.y, self.temp, self.sum = 5, -5, 2\n",
        "\n",
        "        if b == None:\n",
        "            self.y = self.temp + 3\n",
        "            self.sum = 3 + self.temp + 2\n",
        "            self.temp -= 2\n",
        "        else:\n",
        "            self.sum = b.sum\n",
        "            B.x = b.x\n",
        "            b.methodB(2, 3)\n",
        "    def methodA(self, m, n):\n",
        "        x = 2\n",
        "        self.y = self.y + m + (self.temp)\n",
        "        self.temp += 1\n",
        "        x = x + 5 + n\n",
        "        self.sum = self.sum + x + self.y\n",
        "        print(x, self.y, self.sum)\n",
        "    def methodB(self, m, n):\n",
        "        y = 0\n",
        "        y = y + self.y\n",
        "        B.x = self.y + 2 + self.temp\n",
        "        self.methodA(self.x, y)\n",
        "        self.sum = self.x + y + self.sum\n",
        "        print(self.x, y, self.sum)\n",
        "a1 = A()\n",
        "b1 = B()\n",
        "b2 = B(b1)\n",
        "b1.methodA(1, 2)\n",
        "b2.methodB(3, 2)"
      ]
    }
  ],
  "metadata": {
    "colab": {
      "provenance": []
    },
    "kernelspec": {
      "display_name": "Python 3",
      "name": "python3"
    },
    "language_info": {
      "codemirror_mode": {
        "name": "ipython",
        "version": 3
      },
      "file_extension": ".py",
      "mimetype": "text/x-python",
      "name": "python",
      "nbconvert_exporter": "python",
      "pygments_lexer": "ipython3",
      "version": "3.12.2"
    }
  },
  "nbformat": 4,
  "nbformat_minor": 0
}
