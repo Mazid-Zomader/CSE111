{
 "cells": [
  {
   "cell_type": "markdown",
   "metadata": {},
   "source": [
    "***CSE111 Mid Summer-22***"
   ]
  },
  {
   "cell_type": "markdown",
   "metadata": {},
   "source": [
    "**Set A & Set B**"
   ]
  },
  {
   "cell_type": "code",
   "execution_count": 1,
   "metadata": {},
   "outputs": [
    {
     "name": "stdout",
     "output_type": "stream",
     "text": [
      "Exam Type : Midterm\n",
      "Number of question: 2\n",
      "Marks per question : 10\n",
      "Total Marks : 20\n",
      "===========================\n",
      "Exam Type : Final\n",
      "Number of question: 3\n",
      "Marks per question : 10\n",
      "Total Marks : 30\n"
     ]
    }
   ],
   "source": [
    "class Exam :\n",
    "    def __init__(self, xm , no_ques , per_ques) :\n",
    "        self.exam = xm\n",
    "        self.num_of_ques = no_ques\n",
    "        self.per_ques_marks = per_ques\n",
    "    def detail(self) :\n",
    "        print(f'Exam Type : {self.exam}')\n",
    "        print(f'Number of question: {self.num_of_ques}')\n",
    "        print(f'Marks per question : {self.per_ques_marks}')\n",
    "        total = self.num_of_ques * self.per_ques_marks\n",
    "        return (f'Total Marks : {total}')\n",
    "    \n",
    "e1 = Exam('Midterm', 2, 10)\n",
    "print(e1.detail())\n",
    "print(\"===========================\")\n",
    "e2 = Exam('Final', 3, 10)\n",
    "print(e2.detail())"
   ]
  },
  {
   "cell_type": "code",
   "execution_count": 10,
   "metadata": {},
   "outputs": [
    {
     "name": "stdout",
     "output_type": "stream",
     "text": [
      "1.############################\n",
      "ID Cable Box Status :\n",
      "Cable Box is : On\n",
      "Channel : 0\n",
      "Volume : 3\n",
      "2.############################\n",
      "ID Cable Box Status :\n",
      "Cable Box is : On\n",
      "Channel : 2\n",
      "Volume : 4\n",
      "3.############################\n",
      "ID Cable Box Status :\n",
      "Cable Box is : Off\n",
      "4.############################\n",
      "ID Cable Box Status :\n",
      "Cable Box is : On\n",
      "Channel : 3\n",
      "Volume : 8\n",
      "5.############################\n",
      "ID Cable Box Status :\n",
      "Cable Box is : On\n",
      "Channel : 3\n",
      "Volume : 6\n",
      "6.############################\n",
      "Power is turned off. Cannot change channel.\n",
      "Power is turned off. Cannot change volume.\n",
      "ID Cable Box Status :\n",
      "Cable Box is : Off\n",
      "7.############################\n",
      "TV channel does not exist\n",
      "ID Cable Box Status :\n",
      "Cable Box is : On\n",
      "Channel : 3\n",
      "Volume : 6\n"
     ]
    }
   ],
   "source": [
    "class RickMote :\n",
    "    def __init__(self) :\n",
    "        self.status = None\n",
    "        self.channel_list = [0,2,3,6,7,9]\n",
    "        self.channel = 0\n",
    "        self.channel_count = 0\n",
    "        self.volume = 3\n",
    "        self.count = 0\n",
    "        self.channel_count = 0\n",
    "\n",
    "    def power(self) :\n",
    "        self.count += 1\n",
    "        if self.count % 2 != 0 :\n",
    "            self.status = \"On\"\n",
    "        else :\n",
    "            self.status = \"Off\"\n",
    "    def showInfo (self) :\n",
    "\n",
    "        print(\"ID Cable Box Status :\")\n",
    "        print(f'Cable Box is : {self.status}')\n",
    "        if self.status == \"On\" :\n",
    "            print(f'Channel : {self.channel}')\n",
    "            print(f'Volume : {self.volume}')\n",
    "        else :\n",
    "            pass\n",
    "    def changeChannel(self, change = 1) :\n",
    "        if self.status == \"On\" :\n",
    "            if change == 1 :\n",
    "                self.channel_count += change\n",
    "                if self.channel_list[self.channel_count] in self.channel_list :\n",
    "                    self.channel = self.channel_list[self.channel_count]\n",
    "                else :\n",
    "                    print(\"TV channel does not exist\")\n",
    "            else :\n",
    "                if change in self.channel_list :\n",
    "                    self.channel = change\n",
    "                else :\n",
    "                    print(\"TV channel does not exist\")\n",
    "        else :\n",
    "            print('Power is turned off. Cannot change channel.')\n",
    "    def changeVolumeLevel(self, volume = 1):\n",
    "        if self.status == \"On\" :\n",
    "            self.volume += volume\n",
    "        else :\n",
    "            print('Power is turned off. Cannot change volume.')\n",
    "\n",
    "oTV = RickMote()\n",
    "oTV.power()\n",
    "print(\"1.############################\")\n",
    "oTV.showInfo()\n",
    "print(\"2.############################\")\n",
    "oTV.changeChannel()\n",
    "oTV.changeVolumeLevel()\n",
    "oTV.showInfo()\n",
    "print(\"3.############################\")\n",
    "oTV.power()\n",
    "oTV.showInfo()\n",
    "print(\"4.############################\")\n",
    "oTV.power()\n",
    "oTV.changeVolumeLevel(4)\n",
    "oTV.changeChannel(3)\n",
    "oTV.showInfo()\n",
    "print(\"5.############################\")\n",
    "oTV.changeVolumeLevel(-2)\n",
    "oTV.showInfo()\n",
    "print(\"6.############################\")\n",
    "oTV.power()\n",
    "oTV.changeChannel(9)\n",
    "oTV.changeVolumeLevel(-1)\n",
    "oTV.showInfo()\n",
    "print(\"7.############################\")\n",
    "oTV.power()\n",
    "oTV.changeChannel(11)\n",
    "oTV.showInfo()\n",
    "\n"
   ]
  },
  {
   "cell_type": "markdown",
   "metadata": {},
   "source": [
    "***CSE111 Mid Fall-22***"
   ]
  },
  {
   "cell_type": "markdown",
   "metadata": {},
   "source": [
    "**SET A & SET B**"
   ]
  },
  {
   "cell_type": "code",
   "execution_count": 13,
   "metadata": {},
   "outputs": [
    {
     "name": "stdout",
     "output_type": "stream",
     "text": [
      "Genre: Heavy Metal\n",
      "Song list: This Fire Burns,Here I Am\n"
     ]
    }
   ],
   "source": [
    "class Spotify :\n",
    "\tdef __init__(self , genre , *args) :\n",
    "\t\tself.genre = genre\n",
    "\t\tself.songs = \",\".join(args)\n",
    "\tdef show_playlist(self) :\n",
    "\t\tprint(f'Genre: {self.genre}')\n",
    "\t\treturn(f'Song list: {self.songs}')\n",
    "\n",
    "rock= Spotify(\"Heavy Metal\", \"This Fire Burns\", \"Here I Am\")\n",
    "print(rock.show_playlist())"
   ]
  },
  {
   "cell_type": "code",
   "execution_count": 5,
   "metadata": {},
   "outputs": [
    {
     "name": "stdout",
     "output_type": "stream",
     "text": [
      "1################################# \n",
      "Your 6-inch Hot spicy Regular Pizza is ready with Cheese,Pepperoni toppings. Enjoy!   \n",
      "2================================\n",
      "3#################################\n",
      "No toppings specified ! Can't bake pizza\n",
      "4================================\n",
      "5#################################\n",
      "Your 12-inch Regular spicy Chicken Blast Pizza is ready with Mushroom toppings. Enjoy!   \n",
      "6================================\n",
      "7#################################\n",
      "Sorry! Spice level not allowed. Can't bake pizza\n",
      "8================================\n"
     ]
    }
   ],
   "source": [
    "class PizzaMachine :\n",
    "    def __init__(self , nam = \"Regular\" , meas = 6 ) :\n",
    "        self.type_list = [\"Regular\" , 'Hot' , 'Super Naga']\n",
    "        self.type = \"Regular\"\n",
    "        self.toppings = None\n",
    "        self.name = nam\n",
    "        self.measurement = meas\n",
    "    def customizePizza (self , *args) :\n",
    "        for index in range(len(args)) :\n",
    "            if type(args[index]) == list :\n",
    "                self.toppings = \",\".join(args[index])\n",
    "            else :\n",
    "                self.type = args[index]\n",
    "        if self.toppings == None :\n",
    "            return(\"No toppings specified ! Can't bake pizza\")\n",
    "        else :\n",
    "            if self.type in self.type_list :\n",
    "                return (f'Your {self.measurement}-inch {self.type} spicy {self.name} Pizza is ready with {self.toppings} toppings. Enjoy!   ')\n",
    "            else :\n",
    "                return(\"Sorry! Spice level not allowed. Can't bake pizza\")\n",
    "        \n",
    "\n",
    "\n",
    "pizza1 = PizzaMachine()\n",
    "order1 = pizza1.customizePizza([\"Cheese\", \"Pepperoni\"],\n",
    "\"Hot\")\n",
    "print(\"1################################# \")\n",
    "print(order1)\n",
    "print(\"2================================\")\n",
    "pizza2 = PizzaMachine(\"Vege\")\n",
    "order2 = pizza2.customizePizza(\"Super Naga\")\n",
    "print(\"3#################################\")\n",
    "print(order2)\n",
    "print(\"4================================\")\n",
    "pizza3 = PizzaMachine(\"Chicken Blast\",12)\n",
    "order3 = pizza3.customizePizza([\"Mushroom\"])\n",
    "print(\"5#################################\")\n",
    "print(order3)\n",
    "print(\"6================================\")\n",
    "pizza4 = PizzaMachine(\"Beef Bonanza\",16)\n",
    "order4 = pizza4.customizePizza([\"Cheese\",\"Beef kalabhuna\"],\"Mild\")\n",
    "print(\"7#################################\")\n",
    "print(order4)\n",
    "print(\"8================================\")"
   ]
  },
  {
   "cell_type": "markdown",
   "metadata": {},
   "source": [
    "***CSE111 Mid Spring-22***"
   ]
  },
  {
   "cell_type": "markdown",
   "metadata": {},
   "source": [
    "**SET A & SET B**"
   ]
  },
  {
   "cell_type": "code",
   "execution_count": 22,
   "metadata": {},
   "outputs": [
    {
     "name": "stdout",
     "output_type": "stream",
     "text": [
      "Brand Name : Miyako \n",
      "Ingredients : Coffee beans,Milk,Sugar\n"
     ]
    }
   ],
   "source": [
    "class CoffeeMachine :\n",
    "\tdef __init__(self, nam ) :\n",
    "\t\tself.name = nam\n",
    "\t\tself.ingredients = None\n",
    "\t\t\n",
    "\tdef insertIngredients(self , *args) :\n",
    "\t\tself.ingredients = ','.join(args)\n",
    "\t\n",
    "\tdef getDetails(self) :\n",
    "\t\tprint(f'Brand Name : {self.name} ' )\n",
    "\t\treturn(f'Ingredients : {self.ingredients}')\n",
    "\n",
    "cm1 = CoffeeMachine(\"Miyako\")\n",
    "cm1.insertIngredients(\"Coffee beans\", \"Milk\", \"Sugar\")\n",
    "print(cm1.getDetails())"
   ]
  },
  {
   "cell_type": "code",
   "execution_count": 28,
   "metadata": {},
   "outputs": [
    {
     "name": "stdout",
     "output_type": "stream",
     "text": [
      "1***************\n",
      "Sphere ID : Sphere 1\n",
      "Colour : White\n",
      "Volume: 4.1888\n",
      "2***************\n",
      "3***************\n",
      "Sphere ID : Sphere 2\n",
      "Colour : White\n",
      "Volume: 113.09759999999999\n",
      "4***************\n",
      "5***************\n",
      "Sphere ID : Sphere 3\n",
      "Colour : White\n",
      "Volume: 33.5104\n",
      "6***************\n",
      "Sphere are being merged\n",
      "7***************\n",
      "Sphere ID : Sphere 3\n",
      "Colour : White\n",
      "Volume: 150.7968\n",
      "8***************\n",
      "9***************\n",
      "Sphere are being merged\n",
      "10***************\n",
      "Sphere ID : Sphere 4\n",
      "Colour : Mixed Colour\n",
      "Volume: 674.3967999999999\n"
     ]
    }
   ],
   "source": [
    "class Sphere :\n",
    "    def __init__(self , nam , rad = 1,col = \"White\") :\n",
    "        self.name = nam\n",
    "        self.radius = rad\n",
    "        self.volume = (4/3) * 3.1416 * (self.radius**3)\n",
    "        self.colour = col\n",
    "    def printDetails(self) :\n",
    "        print(f'Sphere ID : {self.name}')\n",
    "        print(f'Colour : {self.colour}')\n",
    "        print(f'Volume: {self.volume}')\n",
    "    def merge_sphere(self,*args) :\n",
    "        merged = 0.00\n",
    "        for index in range(len(args)) :\n",
    "            merged += args[index].volume \n",
    "        self.volume += merged\n",
    "        for index2 in range(len(args)) :\n",
    "            if self.colour == args[index2].colour :\n",
    "                pass\n",
    "            else :\n",
    "                self.colour = \"Mixed Colour\"\n",
    "                break\n",
    "        print('Sphere are being merged')\n",
    "\n",
    "\n",
    "sphere1 = Sphere(\"Sphere 1\")\n",
    "print(\"1***************\")\n",
    "sphere1.printDetails()\n",
    "print(\"2***************\")\n",
    "sphere2 = Sphere(\"Sphere 2\", 3)\n",
    "print(\"3***************\")\n",
    "sphere2.printDetails()\n",
    "print(\"4***************\")\n",
    "sphere3 = Sphere(\"Sphere 3\", 2)\n",
    "print(\"5***************\")\n",
    "sphere3.printDetails()\n",
    "print(\"6***************\")\n",
    "sphere3.merge_sphere(sphere1,sphere2)\n",
    "print(\"7***************\")\n",
    "sphere3.printDetails()\n",
    "print(\"8***************\")\n",
    "sphere4 = Sphere(\"Sphere 4\", 5, \"Purple\")\n",
    "print(\"9***************\")\n",
    "sphere4.merge_sphere(sphere3)\n",
    "print(\"10***************\")\n",
    "sphere4.printDetails()"
   ]
  },
  {
   "cell_type": "markdown",
   "metadata": {},
   "source": [
    "***CSE111 Mid Fall-2023***\n"
   ]
  },
  {
   "cell_type": "markdown",
   "metadata": {},
   "source": [
    "***01***"
   ]
  },
  {
   "cell_type": "code",
   "execution_count": 4,
   "metadata": {},
   "outputs": [
    {
     "name": "stdout",
     "output_type": "stream",
     "text": [
      "Model Name: Lenovo IdeaPad\n",
      "Price: 80500\n",
      "Extra Features: Backlit Keyboard,Touch,Type-C\n",
      "-------1--------\n",
      "Model Name: Lenovo IdeaPad\n",
      "Price: 87500\n",
      "Extra Features: Backlit Keyboard,Touch,Type-C,CPU Cooler\n"
     ]
    }
   ],
   "source": [
    "class PC:\n",
    "    def __init__(self, nam , price , *args) :\n",
    "        self.name = nam\n",
    "        self.price = price\n",
    "        self.feature = list(args)\n",
    "    def addExtraParts (self , *args) :\n",
    "        self.price += args[-1]\n",
    "        self.feature += list(args[0:len(args)-1])\n",
    "    def specPC(self) :\n",
    "        return (f'Model Name: {self.name}\\nPrice: {self.price}\\nExtra Features: {\",\".join(self.feature)}')\n",
    "\n",
    "lenovo = PC('Lenovo IdeaPad', 80500, 'Backlit Keyboard', 'Touch', 'Type-C') \n",
    "print(lenovo.specPC()) \n",
    "print('-------1--------') \n",
    "lenovo.addExtraParts('CPU Cooler', 7000) \n",
    "print(lenovo.specPC())"
   ]
  },
  {
   "cell_type": "markdown",
   "metadata": {},
   "source": [
    "***02***"
   ]
  },
  {
   "cell_type": "code",
   "execution_count": 2,
   "metadata": {},
   "outputs": [
    {
     "name": "stdout",
     "output_type": "stream",
     "text": [
      "Acc No: 019278, Name: Zafar\n",
      "Balance:0Tk\n",
      "-----------1---------\n",
      "Successfully added 3000Tk to your account\n",
      "-----------2---------\n",
      "Money transfer unsuccessful due to insufficient balance\n",
      "-----------3---------\n",
      "Your Titas bill payment is successful\n",
      "Current Balance: 1000\n",
      "Desco bill payment is unsuccessful due to insufficinet balance.\n",
      "-----------4---------\n",
      "Acc No: 018903, Name: Abid\n",
      "Balance:300Tk\n",
      "Acc No: 017262, Name: Mostakim\n",
      "Balance:500Tk\n",
      "-----------5---------\n",
      "Successfully transfered money!\n",
      "-----------6---------\n",
      "BTCL bill payment is unsuccessful due to insufficinet balance.\n",
      "Sorry, you can't pay your Dot Internet bill through bKash\n",
      "-----------7---------\n",
      "Successfully added 5000Tk to your account\n",
      "Successfully added 250Tk to your account\n",
      "-----------8---------\n",
      "Your BTCL bill payment is successful\n",
      "Current Balance: 4550\n",
      "-----------9---------\n",
      "Acc No: 018903, Name: Abid\n",
      "Balance:4550Tk\n",
      "-----------10---------\n",
      "Acc No: 017262, Name: Mostakim\n",
      "Balance:900Tk\n"
     ]
    }
   ],
   "source": [
    "class bKashAccount:\n",
    "    def __init__(self, num , nam , amount = 0 ):\n",
    "        self.number = num\n",
    "        self.name = nam\n",
    "        self.amount = amount\n",
    "    def details(self):\n",
    "        print(f'Acc No: {self.number}, Name: {self.name}')\n",
    "        return(f'Balance:{self.amount}Tk')\n",
    "    def addMoney (self, add) :\n",
    "        print(f'Successfully added {add}Tk to your account')\n",
    "        self.amount += add\n",
    "    def sendMoney(self, to , amount) :\n",
    "        if self.amount < amount :\n",
    "            print(\"Money transfer unsuccessful due to insufficient balance\")\n",
    "        else :\n",
    "            print(\"Successfully transfered money!\")\n",
    "            self.amount -= amount\n",
    "            to.amount += amount\n",
    "    def payBill(self, billers , *args):\n",
    "        for i in range(len(args)):\n",
    "            a = args[i].split(\"_\")\n",
    "            b = a[0]\n",
    "            c = int(a[1])\n",
    "            if b in billers:\n",
    "                if c < self.amount:\n",
    "                    print(f\"Your {b} bill payment is successful\")\n",
    "                    self.amount -= c\n",
    "                    print(f\"Current Balance: {self.amount}\")\n",
    "                else :\n",
    "                    print(f\"{b} bill payment is unsuccessful due to insufficinet balance.\")\n",
    "            else :\n",
    "                print(f\"Sorry, you can't pay your {b} bill through bKash\")\n",
    "\n",
    "billers = ['Desco', 'Titas', 'Dhaka WASA', 'BTCL']\n",
    "acc1 = bKashAccount('019278', 'Zafar')\n",
    "acc2 = bKashAccount('018903', 'Abid', 300)\n",
    "print(acc1.details())\n",
    "print('-----------1---------')\n",
    "acc1.addMoney(3000)\n",
    "print('-----------2---------')\n",
    "acc2.sendMoney(acc1, 500)\n",
    "print('-----------3---------')\n",
    "acc1.payBill(billers, 'Titas_2000', 'Desco_1200')\n",
    "print('-----------4---------')\n",
    "acc3 = bKashAccount('017262', 'Mostakim', 500)\n",
    "print(acc2.details())\n",
    "print(acc3.details())\n",
    "print('-----------5---------')\n",
    "acc1.sendMoney(acc3, 150)\n",
    "print('-----------6---------')\n",
    "acc2.payBill(billers, 'BTCL_750')\n",
    "acc3.payBill(billers, 'Dot Internet_1500')\n",
    "print('-----------7---------')\n",
    "acc2.addMoney(5000)\n",
    "acc3.addMoney(250)\n",
    "print('-----------8---------')\n",
    "acc2.payBill(billers, 'BTCL_750')\n",
    "print('-----------9---------')\n",
    "print(acc2.details())\n",
    "print('-----------10---------')\n",
    "print(acc3.details())"
   ]
  }
 ],
 "metadata": {
  "kernelspec": {
   "display_name": "Python 3",
   "language": "python",
   "name": "python3"
  },
  "language_info": {
   "codemirror_mode": {
    "name": "ipython",
    "version": 3
   },
   "file_extension": ".py",
   "mimetype": "text/x-python",
   "name": "python",
   "nbconvert_exporter": "python",
   "pygments_lexer": "ipython3",
   "version": "3.12.2"
  }
 },
 "nbformat": 4,
 "nbformat_minor": 2
}
