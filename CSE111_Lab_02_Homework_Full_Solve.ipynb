{
  "nbformat": 4,
  "nbformat_minor": 0,
  "metadata": {
    "colab": {
      "provenance": []
    },
    "kernelspec": {
      "name": "python3",
      "display_name": "Python 3"
    },
    "language_info": {
      "name": "python"
    }
  },
  "cells": [
    {
      "cell_type": "markdown",
      "source": [
        "01"
      ],
      "metadata": {
        "id": "hx6NyndUyPNr"
      }
    },
    {
      "cell_type": "code",
      "execution_count": 1,
      "metadata": {
        "id": "hBFJMCuHyIUB",
        "colab": {
          "base_uri": "https://localhost:8080/"
        },
        "outputId": "59bac123-6021-43d4-d67f-442de3cb1dd3"
      },
      "outputs": [
        {
          "output_type": "stream",
          "name": "stdout",
          "text": [
            "Highest fee was 1000 tk which was paid by Neymar, Bale. \n",
            "Highest fee was 1200 tk which was paid by Steyn. \n"
          ]
        }
      ],
      "source": [
        "def hospital_fee(**kwargs)  :\n",
        "    key = []\n",
        "    value = []\n",
        "    for key1 , value1 in kwargs.items() :\n",
        "        key.append(key1)\n",
        "        value.append(value1)\n",
        "    #print(key)\n",
        "    #print(value)\n",
        "    max_amount = max(value)\n",
        "    #print(max_amount)\n",
        "    max_payer = []\n",
        "    for index in key :\n",
        "        if int(kwargs[index]) == int(max_amount) :\n",
        "            max_payer.append(index)\n",
        "        else :\n",
        "            pass\n",
        "    payer_string = ''\n",
        "    for index2 in range(len(max_payer)) :\n",
        "        if index2 == len(max_payer)-1 :\n",
        "            payer_string += (max_payer[index2])\n",
        "        else :\n",
        "            payer_string += (max_payer[index2])\n",
        "            payer_string += ', '\n",
        "    #print(payer_string)\n",
        "    return(f'Highest fee was {max_amount} tk which was paid by {payer_string}. ')\n",
        "a = hospital_fee(Dembele = 600,Neymar =1000,  Reus = 500, Bale = 1000)\n",
        "print(a)\n",
        "b = hospital_fee(Mashrafe = 400, Bumrah = 900, Steyn = 1200, Cummins = 900, Wood = 400, Marsh = 700)\n",
        "print(b)"
      ]
    },
    {
      "cell_type": "markdown",
      "source": [
        "02"
      ],
      "metadata": {
        "id": "kz7sSNZkyPzv"
      }
    },
    {
      "cell_type": "code",
      "source": [
        "def is_james_bond(a) :\n",
        "    new_list = []\n",
        "    for index in range(len(a)) :\n",
        "        if a[index]== 0 or a[index] == 7 :\n",
        "            new_list.append(a[index])\n",
        "        else :\n",
        "            pass\n",
        "    if new_list[2] == 7 :\n",
        "        return True\n",
        "    else :\n",
        "        return False\n",
        "\n",
        "\n",
        "a = [1,2,3,0,0,7,5]\n",
        "b = is_james_bond(a)\n",
        "print(b)\n",
        "c = [1,7,2,0,4,5,0]\n",
        "d = is_james_bond(c)\n",
        "print(d)\n",
        "e = [1,0,2,0,4,7,5]\n",
        "f = is_james_bond(e)\n",
        "print(f)\n"
      ],
      "metadata": {
        "colab": {
          "base_uri": "https://localhost:8080/"
        },
        "id": "k-w5TrFvyQE_",
        "outputId": "ab944659-3a20-4e40-ec15-ef41d7d265aa"
      },
      "execution_count": null,
      "outputs": [
        {
          "output_type": "stream",
          "name": "stdout",
          "text": [
            "True\n",
            "False\n",
            "True\n"
          ]
        }
      ]
    },
    {
      "cell_type": "markdown",
      "source": [
        "03"
      ],
      "metadata": {
        "id": "vMAjC1dfyQmV"
      }
    },
    {
      "cell_type": "code",
      "source": [
        "def assign_students_to_sections(*args) :\n",
        "    dict = {}\n",
        "    for index in range(len(args[0])) :\n",
        "        b = args[0][index]\n",
        "        dict[b] = []\n",
        "        #print(b)\n",
        "    for index2 in range(1 , len(args)) :\n",
        "        c = args[index2]\n",
        "        sum = 0\n",
        "        for index3 in range(len(c)) :\n",
        "            sum += ord(c[index3])\n",
        "        d = sum % 5\n",
        "        if d == 0 :\n",
        "            dict['A'].append(c)\n",
        "        elif d == 1 :\n",
        "            dict['B'].append(c)\n",
        "        elif d == 2 :\n",
        "            dict['C'].append(c)\n",
        "        elif d == 3 :\n",
        "            dict['D'].append(c)\n",
        "        else :\n",
        "            dict['E'].append(c)\n",
        "    return dict\n",
        "\n",
        "assign_students_to_sections('ABCDE', 'Alice', 'Bob', 'Charlie', 'David', 'Eve', 'Frank', 'Grace')"
      ],
      "metadata": {
        "id": "NyJames7yQ0D",
        "colab": {
          "base_uri": "https://localhost:8080/"
        },
        "outputId": "bb0037d2-b9b6-4e69-b476-e5c4f6867b91"
      },
      "execution_count": null,
      "outputs": [
        {
          "output_type": "execute_result",
          "data": {
            "text/plain": [
              "{'A': ['Bob'],\n",
              " 'B': ['Charlie'],\n",
              " 'C': ['Grace'],\n",
              " 'D': ['Alice', 'David', 'Eve', 'Frank'],\n",
              " 'E': []}"
            ]
          },
          "metadata": {},
          "execution_count": 2
        }
      ]
    },
    {
      "cell_type": "markdown",
      "source": [
        "04"
      ],
      "metadata": {
        "id": "T1enFPrFyRIO"
      }
    },
    {
      "cell_type": "code",
      "source": [
        "def username_generator(first , last , id , middle = \"\") :\n",
        "    username = ''\n",
        "    username += first[0:3].upper()\n",
        "    username += middle.capitalize()\n",
        "    username += last[len(last)-3 : len(last)].lower()\n",
        "    username += '_'\n",
        "    id = str(id)\n",
        "    username += id[len(id)-4 : len(id)]\n",
        "    \"'username += first[0:3].upper() + middle.capitalize() + last[len(last)-3 : len(last)].lower() +'_'+ id[len(id)-4 : len(id)]'\"\n",
        "    return f'Username will be  : {username}'\n",
        "\n",
        "\n",
        "\n",
        "\n",
        "first_name, middle_name, last_name, student_id= input (\"First Name : \"), input (\"Middle Name : \"), input (\"Last Name : \"), int (input (\"Student ID : \"))\n",
        "# print (first_name)\n",
        "# print(middle_name)\n",
        "# print(last_name)\n",
        "# print(student_id)\n",
        "if middle_name == \"\" :\n",
        "  print(username_generator (first_name, last_name, student_id))\n",
        "else :\n",
        "  print(username_generator(first_name, last_name, student_id, middle_name))"
      ],
      "metadata": {
        "id": "eXiWHsHyyRZe",
        "colab": {
          "base_uri": "https://localhost:8080/"
        },
        "outputId": "34363b6b-fb89-48ba-8bab-9ca555405354"
      },
      "execution_count": null,
      "outputs": [
        {
          "output_type": "stream",
          "name": "stdout",
          "text": [
            "First Name : MD\n",
            "Middle Name : \n",
            "Last Name : Ishmam\n",
            "Student ID : 19992564\n",
            "Username will be  : MDmam_2564\n"
          ]
        }
      ]
    },
    {
      "cell_type": "markdown",
      "source": [
        "05"
      ],
      "metadata": {
        "id": "FpoMibRKySBE"
      }
    },
    {
      "cell_type": "code",
      "source": [
        "def key_generator (*args) :\n",
        "    Encrypted_Keys = []\n",
        "    for index in range(len(args)) :\n",
        "        key = ''\n",
        "        c = args[index]\n",
        "        #new_key = ''\n",
        "        new_key = c[0] + c[len(c)-2 : 0 : -1] + c[len(c)-1]\n",
        "        for index2 in range(len(new_key)) :\n",
        "            if index2  == 0 :\n",
        "                key += new_key[index2].lower()\n",
        "            elif index2 == len(args[index])-1 :\n",
        "                key += new_key[index2].upper()\n",
        "            else :\n",
        "                key += str(ord(new_key[index2]))\n",
        "        Encrypted_Keys.append(key)\n",
        "    return(Encrypted_Keys)\n",
        "\n",
        "key_list = key_generator (\"Alex\", \"Bob\", \"Trudy\")\n",
        "print(f'Encrypted Keys : {key_list}')"
      ],
      "metadata": {
        "id": "21BUaivEySZG",
        "colab": {
          "base_uri": "https://localhost:8080/"
        },
        "outputId": "687e3ff6-5436-4c2a-bd57-9ea565f69350"
      },
      "execution_count": null,
      "outputs": [
        {
          "output_type": "stream",
          "name": "stdout",
          "text": [
            "Encrypted Keys : ['a101108X', 'b111B', 't100117114Y']\n"
          ]
        }
      ]
    },
    {
      "cell_type": "markdown",
      "source": [
        "06"
      ],
      "metadata": {
        "id": "44jcLNv5yStm"
      }
    },
    {
      "cell_type": "code",
      "source": [
        "def playRockPaperScissor(rounds) :\n",
        "    import random\n",
        "    computer_score = 0\n",
        "    your_score = 0\n",
        "    for index in range(rounds) :\n",
        "        a = ['rock' , 'paper' , 'scissor']\n",
        "        b = random.choice(a)\n",
        "        c = input('Enter : ')\n",
        "        print('Computer : ',b)\n",
        "        if b == 'rock' and c == 'scissor' :\n",
        "            computer_score += 1\n",
        "        elif b == 'scissor' and c == 'paper' :\n",
        "            computer_score += 1\n",
        "        elif b == 'paper' and c == 'rock' :\n",
        "            computer_score += 1\n",
        "        else :\n",
        "            if b == c :\n",
        "                pass\n",
        "            elif c == 'rock' or c == 'paper' or c == 'scissor' :\n",
        "                your_score += 1\n",
        "            else :\n",
        "                print(\"You are Dumb ! You can't even write correctly\")\n",
        "    print(f\"Computer's Score : {computer_score}\")\n",
        "    print(f\"Your Score : {your_score}\")\n",
        "    if computer_score > your_score :\n",
        "        print(\"Dumbass !! You can't even win. Computer has won the game!\")\n",
        "    elif computer_score == your_score :\n",
        "        print('Well done boii. This game is a tie')\n",
        "    else :\n",
        "        print(f'Congratulation !! You have won the game!')\n",
        "\n",
        "rounds = int(input('Enter no of rounds : '))\n",
        "playRockPaperScissor(rounds)"
      ],
      "metadata": {
        "id": "S8p4ktfRyS54",
        "colab": {
          "base_uri": "https://localhost:8080/"
        },
        "outputId": "3c7d825f-2309-415a-a425-9a19e8c5a9e3"
      },
      "execution_count": null,
      "outputs": [
        {
          "output_type": "stream",
          "name": "stdout",
          "text": [
            "Enter no of rounds : 3\n",
            "Enter : rock\n",
            "Computer :  scissor\n",
            "Enter : paper\n",
            "Computer :  paper\n",
            "Enter : scissor\n",
            "Computer :  paper\n",
            "Computer's Score : 0\n",
            "Your Score : 2\n",
            "Congratulation !! You have won the game!\n"
          ]
        }
      ]
    }
  ]
}