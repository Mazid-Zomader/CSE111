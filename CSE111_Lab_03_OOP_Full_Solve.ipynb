{
  "cells": [
    {
      "cell_type": "markdown",
      "metadata": {
        "id": "T5zHUVpk69R-"
      },
      "source": [
        "# ***ClassWork***"
      ]
    },
    {
      "cell_type": "markdown",
      "metadata": {
        "id": "PWmoyIPj7Mq2"
      },
      "source": [
        "***01***"
      ]
    },
    {
      "cell_type": "code",
      "execution_count": 1,
      "metadata": {
        "colab": {
          "base_uri": "https://localhost:8080/"
        },
        "id": "umGnTfmn62rD",
        "outputId": "c53eadd3-3aff-4f7d-bc25-4ab49be8aa1c"
      },
      "outputs": [
        {
          "name": "stdout",
          "output_type": "stream",
          "text": [
            "=====================================\n",
            "User Name: Bilbo\n",
            "Balance: 1.0\n",
            "Account Type: Savings\n",
            "=====================================\n",
            "User Name: Frodo\n",
            "Balance: 1.0\n",
            "Account Type: Business\n",
            "=====================================\n"
          ]
        }
      ],
      "source": [
        "# Design\n",
        "class BankAccount :\n",
        "    def  __init__(self , nam , typ) :\n",
        "        self.user_name = nam\n",
        "        self.balance = 1.0\n",
        "        self.account_type  = typ\n",
        "\n",
        "# Driver Code\n",
        "account1 = BankAccount(\"Bilbo\", \"Savings\")\n",
        "print(\"=====================================\")\n",
        "print(f\"User Name: {account1.user_name}\")\n",
        "print(f\"Balance: {account1.balance}\")\n",
        "print(f\"Account Type:\", account1.account_type)\n",
        "print(\"=====================================\")\n",
        "account2 = BankAccount(\"Frodo\", \"Business\")\n",
        "print(f\"User Name: {account2.user_name}\")\n",
        "print(f\"Balance: {account2.balance}\")\n",
        "print(f\"Account Type: {account2.account_type}\")\n",
        "print(\"=====================================\")"
      ]
    },
    {
      "cell_type": "code",
      "execution_count": 2,
      "metadata": {
        "colab": {
          "base_uri": "https://localhost:8080/"
        },
        "id": "GrgBBkeZ7SeH",
        "outputId": "bc3a3334-1843-4454-8bb5-a4187278608d"
      },
      "outputs": [
        {
          "name": "stdout",
          "output_type": "stream",
          "text": [
            "New account balance of Bilbo is 15.75\n",
            "New account balance of Frodo is 700.5\n"
          ]
        }
      ],
      "source": [
        "# Design\n",
        "class BankAccount :\n",
        "    def  __init__(self , nam ,typ) :\n",
        "        self.user_name = nam\n",
        "        self.balance = 1.0\n",
        "        self.account_type  = typ\n",
        "\n",
        "# Driver Code\n",
        "account1 = BankAccount(\"Bilbo\", \"Savings\")\n",
        "account2 = BankAccount(\"Frodo\", \"Business\")\n",
        "account1.balance = 15.75\n",
        "account2.balance = 700.5\n",
        "print(f'New account balance of {account1.user_name} is {account1.balance}')\n",
        "print(f'New account balance of {account2.user_name} is {account2.balance}')"
      ]
    },
    {
      "cell_type": "markdown",
      "metadata": {
        "id": "Vb1lVdDn7YRO"
      },
      "source": [
        "***02***"
      ]
    },
    {
      "cell_type": "code",
      "execution_count": 3,
      "metadata": {
        "colab": {
          "base_uri": "https://localhost:8080/"
        },
        "id": "VmHhWVa-7Xuv",
        "outputId": "0f1f6926-6475-44bb-a8ec-2cee97e9635b"
      },
      "outputs": [
        {
          "name": "stdout",
          "output_type": "stream",
          "text": [
            "=====================================\n",
            "Mango Tree Details:\n",
            "Variety: Gopalbhog\n",
            "Height: 1 meter(s)\n",
            "Number of mangoes on the tree: 0\n",
            "=====================================\n",
            "Mango Tree Details:\n",
            "Variety: Amrapali\n",
            "Height: 1 meter(s)\n",
            "Number of mangoes on the tree: 0\n",
            "=====================================\n"
          ]
        }
      ],
      "source": [
        "# Design\n",
        "class MangoTree :\n",
        "    def __init__(self , var ) :\n",
        "        self.variety = var\n",
        "        self.height = 1\n",
        "        self.number_of_mangoes = 0\n",
        "\n",
        "\n",
        "# Driver Code\n",
        "\n",
        "mangoTree1= MangoTree(\"Gopalbhog\")\n",
        "# Display the details of the mango tree\n",
        "print(\"=====================================\")\n",
        "print(\"Mango Tree Details:\")\n",
        "print(f\"Variety: {mangoTree1.variety}\")\n",
        "print(f\"Height: {mangoTree1.height} meter(s)\")\n",
        "print(f\"Number of mangoes on the tree: {mangoTree1.number_of_mangoes}\")\n",
        "print(\"=====================================\")\n",
        "mangoTree2= MangoTree(\"Amrapali\")\n",
        "# Display the details of the mango tree\n",
        "print(\"Mango Tree Details:\")\n",
        "print(f\"Variety: {mangoTree2.variety}\")\n",
        "print(f\"Height: {mangoTree2.height} meter(s)\")\n",
        "print(f\"Number of mangoes on the tree: {mangoTree2.number_of_mangoes}\")\n",
        "print(\"=====================================\")"
      ]
    },
    {
      "cell_type": "code",
      "execution_count": 4,
      "metadata": {
        "colab": {
          "base_uri": "https://localhost:8080/"
        },
        "id": "N7B9lNCn7c5O",
        "outputId": "1325ad3c-d81d-4496-d93d-a357f0e20738"
      },
      "outputs": [
        {
          "name": "stdout",
          "output_type": "stream",
          "text": [
            "=====================================\n",
            "Mango Tree Details:\n",
            "Variety: Gopalbhog\n",
            "Height: 16 meter(s)\n",
            "Number of mangoes on the tree: 160\n",
            "=====================================\n",
            "Mango Tree Details:\n",
            "Variety: Amrapali\n",
            "Height: 16 meter(s)\n",
            "Number of mangoes on the tree: 240\n",
            "=====================================\n"
          ]
        }
      ],
      "source": [
        "# Design\n",
        "class MangoTree :\n",
        "    def __init__(self , var ) :\n",
        "        self.variety = var\n",
        "        self.height = 1\n",
        "        self.number_of_mangoes = 0\n",
        "\n",
        "\n",
        "# Driver Code\n",
        "\n",
        "mangoTree1= MangoTree(\"Gopalbhog\")\n",
        "mangoTree2= MangoTree(\"Amrapali\")\n",
        "mangoTree1.height = (mangoTree1.height) + (3*5)\n",
        "mangoTree1.number_of_mangoes = 10* mangoTree1.height\n",
        "mangoTree2.height = (mangoTree2.height) + (3*5)\n",
        "mangoTree2.number_of_mangoes = 15* mangoTree2.height\n",
        "print(\"=====================================\")\n",
        "print(\"Mango Tree Details:\")\n",
        "print(f\"Variety: {mangoTree1.variety}\")\n",
        "print(f\"Height: {mangoTree1.height} meter(s)\")\n",
        "print(f\"Number of mangoes on the tree: {mangoTree1.number_of_mangoes}\")\n",
        "print(\"=====================================\")\n",
        "print(\"Mango Tree Details:\")\n",
        "print(f\"Variety: {mangoTree2.variety}\")\n",
        "print(f\"Height: {mangoTree2.height} meter(s)\")\n",
        "print(f\"Number of mangoes on the tree: {mangoTree2.number_of_mangoes}\")\n",
        "print(\"=====================================\")"
      ]
    },
    {
      "cell_type": "markdown",
      "metadata": {
        "id": "h1WIdRTu7kXI"
      },
      "source": [
        "***03***"
      ]
    },
    {
      "cell_type": "code",
      "execution_count": 9,
      "metadata": {
        "colab": {
          "base_uri": "https://localhost:8080/"
        },
        "id": "YGDaGNtW7jzO",
        "outputId": "7ec41f6c-d284-4d2a-d9d3-9e8fce16de99"
      },
      "outputs": [
        {
          "name": "stdout",
          "output_type": "stream",
          "text": [
            "Contacts cannot be saved . Length Mismatch !\n",
            "Saved Contacts: {}\n",
            "---------------------------------------------\n",
            "Contact saved successfully\n",
            "Saved Contacts: {'Emergency': '999', 'Father': '01xx23', 'Bestie': '01xx87', 'Mother': '01xx65'}\n"
          ]
        }
      ],
      "source": [
        "# Design\n",
        "\n",
        "class Contacts :\n",
        "    def __init__(self , nam  , num) :\n",
        "        self.contactDict = {}\n",
        "        if len(nam) != len(num) :\n",
        "            print(f'Contacts cannot be saved . Length Mismatch !')\n",
        "        else :\n",
        "            print('Contact saved successfully')\n",
        "            for index in range(len(nam)) :\n",
        "                self.contactDict[nam[index]] = num[index]\n",
        "\n",
        "names = [\"Emergency\", \"Father\", \"Bestie\"]\n",
        "numbers = [\"999\", \"01xx23\", \"01xx87\", \"01xx65\", \"01xx43\"]\n",
        "m1 = Contacts(names, numbers)\n",
        "print(\"Saved Contacts:\", m1.contactDict)\n",
        "print(\"---------------------------------------------\")\n",
        "names.append(\"Mother\")\n",
        "numbers.pop()\n",
        "m2 = Contacts(names, numbers)\n",
        "print(\"Saved Contacts:\", m2.contactDict)\n",
        "# print(\"---------------------------------------------\")\n",
        "# m1 = Contacts(names, numbers)\n",
        "# print(\"Saved Contacts:\", m1.contactDict)"
      ]
    },
    {
      "cell_type": "markdown",
      "metadata": {
        "id": "ReglaqSy7n8w"
      },
      "source": [
        "***04***"
      ]
    },
    {
      "cell_type": "code",
      "execution_count": 6,
      "metadata": {
        "colab": {
          "base_uri": "https://localhost:8080/"
        },
        "id": "FKAjLqhe7j33",
        "outputId": "02e92da6-5e70-4281-d1c6-e80e3ebddf63"
      },
      "outputs": [
        {
          "name": "stdout",
          "output_type": "stream",
          "text": [
            "All the best Clark , for the upcoming semester\n",
            "Name: Clark\n",
            "CGPA: 3.45\n",
            "Courses Taken: 4\n",
            "Student Status: Regular\n",
            "Advising Status: Approved\n",
            "--------------------------------------------------------------------------------\n",
            "Study Hard this time , Barry\n",
            "Name: Barry\n",
            "Student Status: Probation\n",
            "Advising Status: Approved\n",
            "--------------------------------------------------------------------------------\n",
            "Hello Diana , You are a Regular student and have to take between 3 to 5 courses.\n",
            "Advising Status: Denied\n",
            "Courses Taken: 0\n",
            "--------------------------------------------------------------------------------\n",
            "Sorry, Bruce , you are on Probation and cannot take more than 2 courses\n",
            "Advising Status: Denied\n",
            "Courses Taken: 0\n"
          ]
        }
      ],
      "source": [
        "# Design\n",
        "\n",
        "class Student :\n",
        "    def __init__(self , nam , cg , taken ) :\n",
        "        self.name = nam\n",
        "        self.cgpa = cg\n",
        "\n",
        "        if cg < 2.00 :\n",
        "            self.student_status = 'Probation'\n",
        "            if taken > 1 and taken <= 2 :\n",
        "                print(f'Study Hard this time , {self.name}')\n",
        "                self.advising_status = 'Approved'\n",
        "                self.courses_taken = taken\n",
        "            else :\n",
        "                print(f'Sorry, {self.name} , you are on {self.student_status} and cannot take more than 2 courses')\n",
        "                self.advising_status = 'Denied'\n",
        "                self.courses_taken = 0\n",
        "        else :\n",
        "            self.student_status = 'Regular'\n",
        "            if taken >= 3 and taken <= 5 :\n",
        "                print(f'All the best {self.name} , for the upcoming semester')\n",
        "                self.advising_status = 'Approved'\n",
        "                self.courses_taken = taken\n",
        "            else :\n",
        "                print(f'Hello {self.name} , You are a {self.student_status} student and have to take between 3 to 5 courses.')\n",
        "                self.advising_status = 'Denied'\n",
        "                self.courses_taken = 0\n",
        "\n",
        "# Driver Code\n",
        "\n",
        "s1 = Student(\"Clark\", 3.45, 4)\n",
        "print(f\"Name: {s1.name}\\nCGPA: {s1.cgpa}\\nCourses Taken: {s1.courses_taken}\")\n",
        "print(f\"Student Status: {s1.student_status}\\nAdvising Status: {s1.advising_status}\")\n",
        "print(\"--------------------------------------------------------------------------------\")\n",
        "s2 = Student(\"Barry\", 1.93, 2)\n",
        "print(f\"Name: {s2.name}\")\n",
        "print(f\"Student Status: {s2.student_status}\\nAdvising Status: {s2.advising_status}\")\n",
        "print(\"--------------------------------------------------------------------------------\")\n",
        "s3 = Student(\"Diana\", 2.91, 2)\n",
        "print(f\"Advising Status: {s3.advising_status}\\nCourses Taken: {s3.courses_taken}\")\n",
        "print(\"--------------------------------------------------------------------------------\")\n",
        "s4 = Student(\"Bruce\", 1.52, 5)\n",
        "print(f\"Advising Status: {s4.advising_status}\\nCourses Taken: {s4.courses_taken}\")\n",
        "\n"
      ]
    },
    {
      "cell_type": "markdown",
      "metadata": {
        "id": "KgrdyOvu7cRW"
      },
      "source": [
        "***05***"
      ]
    },
    {
      "cell_type": "code",
      "execution_count": 7,
      "metadata": {
        "colab": {
          "base_uri": "https://localhost:8080/"
        },
        "id": "moEAuyfq7ueB",
        "outputId": "536fcc59-bce8-4a3a-fc5c-5fb4fb8811c1"
      },
      "outputs": [
        {
          "name": "stdout",
          "output_type": "stream",
          "text": [
            "===========Package 1=============\n",
            "Data = 6144 MB\n",
            "Talktime = 99 min\n",
            "SMS/MMS = 20\n",
            "Validity = 7 Days\n",
            "--> Price = 150 tk\n",
            "Buy now to get 10 tk cashback\n",
            "===========Package 2=============\n",
            "Data = 35840 MB\n",
            "Talktime = 700 min\n",
            "Validity = 30 Days\n",
            "--> Price = 700 tk\n",
            "Buy now to get 70 tk cashback\n",
            "===========Package 3=============\n",
            "Talktime = 190 min\n",
            "Validity = 10 Days\n",
            "--> Price = 120 tk\n"
          ]
        }
      ],
      "source": [
        "# Design\n",
        "\n",
        "class CellPackage :\n",
        "    def __init__(self , pric , data , min , smS , cs_bk , val) :\n",
        "        self.talktime  = min\n",
        "        temp_data = ''\n",
        "        inte = '1234567890'\n",
        "        for index in range(len(data)) :\n",
        "            if data[index] in inte :\n",
        "                temp_data += data[index]\n",
        "            else :\n",
        "                pass\n",
        "        temp_data = int(temp_data)\n",
        "        self.Data = temp_data*1024\n",
        "        self.price = pric\n",
        "        self.sms = smS\n",
        "        self.validity = val\n",
        "        per = ''\n",
        "        for index2 in range(len(cs_bk)) :\n",
        "            if cs_bk[index2] in inte :\n",
        "                per += cs_bk[index2]\n",
        "            else :\n",
        "                pass\n",
        "        per = int(per)\n",
        "        self.cash_back = pric * (per/100)\n",
        "\n",
        "\n",
        "# Driver Code\n",
        "\n",
        "pkg = CellPackage(150, '6 GB', 99, 20, '7%', 7)\n",
        "print('===========Package 1=============')\n",
        "\n",
        "if pkg.Data == 0 :\n",
        "    pass\n",
        "else :\n",
        "    print(f'Data = {pkg.Data} MB')\n",
        "if pkg.talktime == 0 :\n",
        "    pass\n",
        "else :\n",
        "    print(f'Talktime = {pkg.talktime} min')\n",
        "if pkg.sms == 0 :\n",
        "    pass\n",
        "else :\n",
        "    print(f'SMS/MMS = {pkg.sms}')\n",
        "if pkg.validity == 0 :\n",
        "    pass\n",
        "else :\n",
        "    print(f'Validity = {pkg.validity} Days')\n",
        "if pkg.price == 0 :\n",
        "    pass\n",
        "else :\n",
        "    print(f'--> Price = {pkg.price} tk')\n",
        "if pkg.cash_back == 0 :\n",
        "    pass\n",
        "else :\n",
        "    print(f'Buy now to get {int(pkg.cash_back)} tk cashback')\n",
        "pkg2 = CellPackage(700, '35 GB', 700, 0, '10%', 30)\n",
        "print('===========Package 2=============')\n",
        "if pkg2.Data == 0 :\n",
        "    pass\n",
        "else :\n",
        "\n",
        "    print(f'Data = {pkg2.Data} MB')\n",
        "if pkg2.talktime == 0 :\n",
        "    pass\n",
        "else :\n",
        "    print(f'Talktime = {pkg2.talktime} min')\n",
        "if pkg2.sms == 0 :\n",
        "    pass\n",
        "else :\n",
        "    print(f'SMS/MMS = {pkg2.sms}')\n",
        "if pkg2.validity == 0 :\n",
        "    pass\n",
        "else :\n",
        "    print(f'Validity = {pkg2.validity} Days')\n",
        "if pkg2.price == 0 :\n",
        "    pass\n",
        "else :\n",
        "    print(f'--> Price = {pkg2.price} tk')\n",
        "if pkg2.cash_back == 0 :\n",
        "    pass\n",
        "else :\n",
        "    print(f'Buy now to get {int(pkg2.cash_back)} tk cashback')\n",
        "\n",
        "pkg3 = CellPackage(120, '0 GB', 190, 0, '0%', 10)\n",
        "print('===========Package 3=============')\n",
        "if pkg3.Data == 0 :\n",
        "    pass\n",
        "else :\n",
        "\n",
        "    print(f'Data = {pkg3.Data} MB')\n",
        "if pkg3.talktime == 0 :\n",
        "    pass\n",
        "else :\n",
        "    print(f'Talktime = {pkg3.talktime} min')\n",
        "if pkg3.sms == 0 :\n",
        "    pass\n",
        "else :\n",
        "    print(f'SMS/MMS = {pkg3.sms}')\n",
        "if pkg3.validity == 0 :\n",
        "    pass\n",
        "else :\n",
        "    print(f'Validity = {pkg3.validity} Days')\n",
        "if pkg3.price == 0 :\n",
        "    pass\n",
        "else :\n",
        "    print(f'--> Price = {pkg3.price} tk')\n",
        "if pkg3.cash_back == 0 :\n",
        "    pass\n",
        "else :\n",
        "    print(f'Buy now to get {int(pkg3.cash_back)} tk cashback')"
      ]
    },
    {
      "cell_type": "code",
      "execution_count": 8,
      "metadata": {
        "colab": {
          "base_uri": "https://localhost:8080/"
        },
        "id": "BQQwK7Oe7wmW",
        "outputId": "f8ac15ec-c063-413b-a0ab-4fef3a59d075"
      },
      "outputs": [
        {
          "name": "stdout",
          "output_type": "stream",
          "text": [
            "===========Package 1=============\n",
            "Data = 6144 MB\n",
            "Talktime = 99 minutes\n",
            "SMS/MMS = 20\n",
            "Validity = 7 Days\n",
            "--> Price = 150 tk\n",
            "Buy now to get 10 tk cashback\n",
            "===========Package 2=============\n",
            "Data = 35840 MB\n",
            "Talktime = 700 minutes\n",
            "Validity = 30 Days\n",
            "--> Price = 700 tk\n",
            "Buy now to get 70 tk cashback\n",
            "============Package 3============\n",
            "Talktime = 190 minutes\n",
            "Validity = 10 Days\n",
            "--> Price = 120 tk\n"
          ]
        }
      ],
      "source": [
        "# Design\n",
        "class CellPackage :\n",
        "    def __init__(self , pric , data , min , smS , cs_bk , val) :\n",
        "        self.talktime  = min\n",
        "        temp_data = ''\n",
        "        inte = '1234567890'\n",
        "        for index in range(len(data)) :\n",
        "            if data[index] in inte :\n",
        "                temp_data += data[index]\n",
        "            else :\n",
        "                pass\n",
        "        temp_data = int(temp_data)\n",
        "        self.Data = temp_data*1024\n",
        "        self.price = pric\n",
        "        self.sms = smS\n",
        "        self.validity = val\n",
        "        per = ''\n",
        "        for index2 in range(len(cs_bk)) :\n",
        "            if cs_bk[index2] in inte :\n",
        "                per += cs_bk[index2]\n",
        "            else :\n",
        "                pass\n",
        "        per = int(per)\n",
        "        self.cash_back = pric * (per/100)\n",
        "\n",
        "\n",
        "# Driver Code\n",
        "\n",
        "def checker(package) :\n",
        "    if package.Data == 0 :\n",
        "        pass\n",
        "    else :\n",
        "        print(f'Data = {package.Data} MB')\n",
        "    if package.talktime == 0 :\n",
        "        pass\n",
        "    else :\n",
        "        print(f'Talktime = {package.talktime} minutes')\n",
        "    if package.sms == 0 :\n",
        "        pass\n",
        "    else :\n",
        "        print(f'SMS/MMS = {package.sms}')\n",
        "    if package.validity == 0 :\n",
        "        pass\n",
        "    else :\n",
        "        print(f'Validity = {package.validity} Days')\n",
        "    if package.price == 0 :\n",
        "        pass\n",
        "    else :\n",
        "        print(f'--> Price = {package.price} tk')\n",
        "    if package.cash_back == 0 :\n",
        "        pass\n",
        "    else :\n",
        "        print(f'Buy now to get {int(package.cash_back)} tk cashback')\n",
        "\n",
        "pkg = CellPackage(150, '6 GB', 99, 20, '7%', 7)\n",
        "print('===========Package 1=============')\n",
        "checker(pkg)\n",
        "pkg2 = CellPackage(700, '35 GB', 700, 0,\n",
        "'10%', 30)\n",
        "print('===========Package 2=============')\n",
        "# Subtask 3: Check each attribute and\n",
        "checker(pkg2)\n",
        "pkg4 = CellPackage(120, '0 GB', 190, 0,'0%', 10)\n",
        "print('============Package 3============')\n",
        "\n",
        "checker(pkg4)"
      ]
    },
    {
      "cell_type": "markdown",
      "metadata": {
        "id": "KwNaL4MwBunA"
      },
      "source": [
        "# ***Homework***"
      ]
    },
    {
      "cell_type": "markdown",
      "metadata": {
        "id": "8bKf6pFQByvf"
      },
      "source": [
        "***01***"
      ]
    },
    {
      "cell_type": "code",
      "execution_count": 1,
      "metadata": {
        "colab": {
          "base_uri": "https://localhost:8080/"
        },
        "id": "BPsMQ_acByI2",
        "outputId": "b63b684c-7d6c-4243-b3f7-e3f117a9fb00"
      },
      "outputs": [
        {
          "name": "stdout",
          "output_type": "stream",
          "text": [
            "Checking the book.\n",
            "Ferguson wrote the book 'The Act'.\n",
            "This book was published in 1924.\n",
            "This book is Rejected. The book is not antique enough.\n",
            "-------------------------------------\n",
            "Checking the book.\n",
            "Nolan wrote the book 'Flame'.\n",
            "This book was published in 1932.\n",
            "This book is Rejected. The book is not antique enough.\n",
            "-------------------------------------\n",
            "Checking the book.\n",
            "Alfred wrote the book 'Norms'.\n",
            "This book was published in 1832.\n",
            "This book is Accepted. The book is stored on floor: 0.\n",
            "-------------------------------------\n",
            "Checking the book.\n",
            "Samson wrote the book 'Apex'.\n",
            "This book was published in 1923.\n",
            "This book is Accepted. The book is stored on floor: 0.\n",
            "-------------------------------------\n",
            "Checking the book.\n",
            "Eden wrote the book 'Habitat'.\n",
            "This book was published in 1723.\n",
            "This book is Accepted. The book is stored on floor: 1.\n",
            "-------------------------------------\n",
            "Checking the book.\n",
            "Menez wrote the book 'Apocalypto'.\n",
            "This book was published in 1603.\n",
            "This book is Accepted. The book is stored on floor: 2.\n"
          ]
        }
      ],
      "source": [
        "class Book :\n",
        "  def __init__ (self , auth , nam , pub_year) :\n",
        "    print(f'Checking the book.')\n",
        "    self.author = nam\n",
        "    self.name = auth\n",
        "    self.year_of_publication = pub_year\n",
        "    import datetime\n",
        "    today = datetime.date.today()\n",
        "    year = today.year\n",
        "    time_passed = year - pub_year\n",
        "    if time_passed > 100  :\n",
        "        if time_passed <= 200 :\n",
        "           self.status = 'Accepted. The book is stored on floor: 0.'\n",
        "        elif time_passed > 200 and time_passed <= 400 :\n",
        "           self.status = 'Accepted. The book is stored on floor: 1.'\n",
        "        else :\n",
        "           self.status = 'Accepted. The book is stored on floor: 2.'\n",
        "    else :\n",
        "      self.status = 'Rejected. The book is not antique enough.'\n",
        "\n",
        "#Driver Code\n",
        "book1= Book('The Act', 'Ferguson', 1924)\n",
        "print(f\"{book1.author} wrote the book '{book1.name}'.\")\n",
        "print(f\"This book was published in {book1.year_of_publication}.\")\n",
        "print(f\"This book is {book1.status}\")\n",
        "print(\"-------------------------------------\")\n",
        "book2= Book('Flame', 'Nolan', 1932)\n",
        "print(f\"{book2.author} wrote the book '{book2.name}'.\")\n",
        "print(f\"This book was published in {book2.year_of_publication}.\")\n",
        "print(f\"This book is {book2.status}\")\n",
        "print(\"-------------------------------------\")\n",
        "book3= Book('Norms', 'Alfred', 1832)\n",
        "print(f\"{book3.author} wrote the book '{book3.name}'.\")\n",
        "print(f\"This book was published in {book3.year_of_publication}.\")\n",
        "print(f\"This book is {book3.status}\")\n",
        "print(\"-------------------------------------\")\n",
        "book4= Book('Apex', 'Samson', 1923)\n",
        "print(f\"{book4.author} wrote the book '{book4.name}'.\")\n",
        "print(f\"This book was published in {book4.year_of_publication}.\")\n",
        "print(f\"This book is {book4.status}\")\n",
        "print(\"-------------------------------------\")\n",
        "book5= Book('Habitat', 'Eden', 1723)\n",
        "print(f\"{book5.author} wrote the book '{book5.name}'.\")\n",
        "print(f\"This book was published in {book5.year_of_publication}.\")\n",
        "print(f\"This book is {book5.status}\")\n",
        "print(\"-------------------------------------\")\n",
        "book6= Book('Apocalypto', 'Menez', 1603)\n",
        "print(f\"{book6.author} wrote the book '{book6.name}'.\")\n",
        "print(f\"This book was published in {book6.year_of_publication}.\")\n",
        "print(f\"This book is {book6.status}\")"
      ]
    },
    {
      "cell_type": "markdown",
      "metadata": {
        "id": "EyegFU3bEXoA"
      },
      "source": [
        "***02***"
      ]
    },
    {
      "cell_type": "code",
      "execution_count": 12,
      "metadata": {
        "colab": {
          "base_uri": "https://localhost:8080/"
        },
        "id": "GvOS-br4EY2w",
        "outputId": "ade47cdf-f3f1-4049-fd8c-6f4916ffc596"
      },
      "outputs": [
        {
          "name": "stdout",
          "output_type": "stream",
          "text": [
            "=======Team 1=======\n",
            "Pokemon 1: pikachu 90\n",
            "Pokemon 2: charmander 60\n",
            "Combined Power: 1500\n",
            "=======Team 2=======\n",
            "Pokemon 1: bulbasaur 80\n",
            "Pokemon 2: squirtle 70\n",
            "Combined Power: 1350\n"
          ]
        }
      ],
      "source": [
        "class Pokemon :\n",
        "    def __init__(self , poke_1_nam , poke_2_nam , poke_1_pow , poke_2_pow , dam_rate  ) :\n",
        "        self.pokemon1_name = poke_1_nam\n",
        "        self.pokemon2_name = poke_2_nam\n",
        "        self.pokemon1_power = poke_1_pow\n",
        "        self.pokemon2_power = poke_2_pow\n",
        "        self.damage_rate = dam_rate\n",
        "team_pika = Pokemon('pikachu', 'charmander', 90, 60, 10)\n",
        "print('=======Team 1=======')\n",
        "print('Pokemon 1:',team_pika.pokemon1_name,\n",
        "team_pika.pokemon1_power)\n",
        "print('Pokemon 2:',team_pika.pokemon2_name,\n",
        "team_pika.pokemon2_power)\n",
        "pika_combined_power = (team_pika.pokemon1_power +\n",
        "team_pika.pokemon2_power) * team_pika.damage_rate\n",
        "print('Combined Power:', pika_combined_power)\n",
        "# Subtask 1\n",
        "team_buba = Pokemon('bulbasaur','squirtle', 80, 70, 9)\n",
        "print('=======Team 2=======')\n",
        "print('Pokemon 1:',team_buba.pokemon1_name,\n",
        "team_buba.pokemon1_power)\n",
        "print('Pokemon 2:',team_buba.pokemon2_name,\n",
        "team_buba.pokemon2_power)\n",
        "buba_combined_power = (team_buba.pokemon1_power +\n",
        "team_buba.pokemon2_power) * team_buba.damage_rate\n",
        "print('Combined Power:', buba_combined_power)"
      ]
    },
    {
      "cell_type": "markdown",
      "metadata": {
        "id": "ZsPkNxPYFtX_"
      },
      "source": [
        "***03***"
      ]
    },
    {
      "cell_type": "code",
      "execution_count": 14,
      "metadata": {
        "colab": {
          "base_uri": "https://localhost:8080/"
        },
        "id": "iyRxWKcRFuhn",
        "outputId": "4816dd9f-2ca7-4324-fd6c-60a35b956b55"
      },
      "outputs": [
        {
          "name": "stdout",
          "output_type": "stream",
          "text": [
            "Box 1\n",
            "Creating a Box !\n",
            "=========================\n",
            "Height: 10\n",
            "Width: 10\n",
            "Breadth: 10\n",
            "Volume of the box is 1000 cubic units.\n",
            "-------------------------\n",
            "Box 2\n",
            "Creating a Box !\n",
            "=========================\n",
            "Height: 30\n",
            "Width: 10\n",
            "Breadth: 10\n",
            "Volume of the box is 3000 cubic units.\n",
            "Updating Box 2!\n",
            "Height: 300\n",
            "Width: 10\n",
            "Breadth: 10\n",
            "Volume of the box is 30000 cubic units.\n",
            "-------------------------\n",
            "Box 3\n",
            "Height: 300\n",
            "Width: 10\n",
            "Breadth: 10\n",
            "Volume of the box is 30000 cubic units.\n"
          ]
        }
      ],
      "source": [
        "class box :\n",
        "    def __init__(self , list) :\n",
        "        print('Creating a Box !')\n",
        "        self.height = list[0]\n",
        "        self.width = list[1]\n",
        "        self.breadth = list[2]\n",
        "\n",
        "# Driver Code\n",
        "print(\"Box 1\")\n",
        "b1 = box([10,10,10])\n",
        "print(\"=========================\")\n",
        "print(\"Height:\", b1.height)\n",
        "print(\"Width:\", b1.width)\n",
        "print(\"Breadth:\", b1.breadth)\n",
        "volume = b1.height * b1.width *b1.breadth\n",
        "print(f\"Volume of the box is {volume} cubic units.\")\n",
        "print(\"-------------------------\")\n",
        "print(\"Box 2\")\n",
        "b2 = box((30,10,10))\n",
        "print(\"=========================\")\n",
        "print(\"Height:\", b2.height)\n",
        "print(\"Width:\", b2.width)\n",
        "print(\"Breadth:\", b2.breadth)\n",
        "volume = b2.height * b2.width * b2.breadth\n",
        "print(f\"Volume of the box is {volume} cubic units.\")\n",
        "b2.height = 300\n",
        "print(\"Updating Box 2!\")\n",
        "print(\"Height:\", b2.height)\n",
        "print(\"Width:\", b2.width)\n",
        "print(\"Breadth:\", b2.breadth)\n",
        "volume = b2.height * b2.width * b2.breadth\n",
        "print(f\"Volume of the box is {volume} cubic units.\")\n",
        "print(\"-------------------------\")\n",
        "print(\"Box 3\")\n",
        "b3 = b2\n",
        "print(\"Height:\", b3.height)\n",
        "print(\"Width:\", b3.width)\n",
        "print(\"Breadth:\", b3.breadth)\n",
        "volume = b3.height * b3.width * b3.breadth\n",
        "print(f\"Volume of the box is {volume} cubic units.\")\n",
        "one = (b3 == b2) # The value of one is True . Here b3 is created in the same memory place as b2 . Hence b2 and b3 are same , one  = True\n",
        "b3.width = 100 # Changed . It was 10 previously , which was the value of b2.width because in the previous line b3 was created in the same memory place as b2\n",
        "two = (b3 == b2) # also True # because b3 and b2 shared the same memory place from the starting of b3 creation and both their value were changed . Thus , two = False"
      ]
    },
    {
      "cell_type": "markdown",
      "metadata": {
        "id": "jB2UZhGkawxa"
      },
      "source": [
        "***04***"
      ]
    },
    {
      "cell_type": "code",
      "execution_count": 3,
      "metadata": {
        "colab": {
          "base_uri": "https://localhost:8080/"
        },
        "id": "7m0WQV0Paxqz",
        "outputId": "60e4b95f-f138-41b3-9ef8-796218e29b46"
      },
      "outputs": [
        {
          "name": "stdout",
          "output_type": "stream",
          "text": [
            "['Chicken_Cheeseburger', 2, 498, 'Fries', 3, 417, 'Soft_Drinks', 3, 150]\n",
            "\n",
            "-----------------------------------\n",
            "Item         x Quantity : Price\n",
            "-------------- --------- -------\n",
            "Chicken_Cheeseburger x  2 :  498.00\n",
            "Fries                x  3 :  417.00\n",
            "Soft_Drinks          x  3 :  150.00\n",
            "-----------------------------------\n",
            "Total:                      1065.00\n",
            "-----------------------------------\n"
          ]
        }
      ],
      "source": [
        "class Order :\n",
        "    def __init__(self , menu , item_1) :\n",
        "        list1 = item_1.split(',')\n",
        "        list2 = []\n",
        "        inte = '1234567890'\n",
        "\n",
        "        for index in range(len(list1)) :\n",
        "            sp = list1[index].split('-')\n",
        "            for index2 in range(len(sp)) :\n",
        "                if sp[index2] in inte :\n",
        "                    list2.append(int(sp[index2]))\n",
        "                else :\n",
        "                    list2.append(sp[index2])\n",
        "        final_list = []\n",
        "        for index3 in range(len(list2)) :\n",
        "            if type(list2[index3]) == int :\n",
        "                final_list.append(list2[index3])\n",
        "                a = list2[index3-1]\n",
        "                # b = list2[index2]\n",
        "                final_list.append((menu[a])*list2[index3])\n",
        "            else :\n",
        "                final_list.append(list2[index3])\n",
        "        self.items = final_list\n",
        "\n",
        "\n",
        "menu = {\n",
        "'Chicken_Cheeseburger' : 249,\n",
        "'Mega_Cheeseburger' : 289,\n",
        "'Fries' : 139,\n",
        "'Hot_Wings' : 99,\n",
        "'Rice_Bowl' : 299,\n",
        "'Soft_Drinks' : 50\n",
        "}\n",
        "order1 = Order(menu, \"Chicken_Cheeseburger-2,Fries-3,Soft_Drinks-3\")\n",
        "print(order1.items)\n",
        "print()\n",
        "print('-'*35)\n",
        "print('Item         x Quantity : Price')\n",
        "print('-------------- --------- -------')\n",
        "index = 0\n",
        "total = 0\n",
        "while index < len(order1.items):\n",
        "    item = order1.items[index]\n",
        "    quantity = order1.items[index+1]\n",
        "    price = order1.items[index+2]\n",
        "    print(f'{item:20} x {quantity:2} : {price:7.2f}')\n",
        "    total += price\n",
        "    index += 3 # Going to next item\n",
        "print('-'*35)\n",
        "print(f'Total:                      {total:7.2f}')\n",
        "print('-'*35)"
      ]
    },
    {
      "cell_type": "code",
      "execution_count": 1,
      "metadata": {},
      "outputs": [
        {
          "name": "stdout",
          "output_type": "stream",
          "text": [
            "['Chicken_Cheeseburger', 10, 2490, 'Fries', 30, 4170, 'Soft_Drinks', 10, 500]\n",
            "\n",
            "-----------------------------------\n",
            "Item         x Quantity : Price\n",
            "-------------- --------- -------\n",
            "Chicken_Cheeseburger x 10 : 2490.00\n",
            "Fries                x 30 : 4170.00\n",
            "Soft_Drinks          x 10 :  500.00\n",
            "-----------------------------------\n",
            "Total:                      7160.00\n",
            "-----------------------------------\n"
          ]
        }
      ],
      "source": [
        "class Order :\n",
        "    def __init__(self , menu , item_1) :\n",
        "        list1 = item_1.split(',')\n",
        "        list2 = []\n",
        "        inte = '1234567890'\n",
        "\n",
        "        for index in range(len(list1)) :\n",
        "            sp = list1[index].split('-')\n",
        "            temp = ''\n",
        "            a = sp\n",
        "            for index2 in range(len(sp)) :\n",
        "                b = sp[index2]\n",
        "                for index4 in range(len(sp[index2])) :\n",
        "                    c = b[index4]\n",
        "                    if b[index4] in inte :\n",
        "                        temp += c\n",
        "                        if index4 == len(b)-1 :\n",
        "                            temp = int(temp)\n",
        "                            list2.append(temp)\n",
        "                        else :\n",
        "                            pass\n",
        "                    else :\n",
        "                        list2.append(b)\n",
        "                        break\n",
        "                \n",
        "        final_list = []\n",
        "        for index3 in range(len(list2)) :\n",
        "            if type(list2[index3]) == int :\n",
        "                final_list.append(list2[index3])\n",
        "                a = list2[index3-1]\n",
        "                # b = list2[index2]\n",
        "                final_list.append((menu[a])*list2[index3])\n",
        "            else :\n",
        "                final_list.append(list2[index3])\n",
        "        self.items = final_list\n",
        "\n",
        "menu = {\n",
        "'Chicken_Cheeseburger' : 249,\n",
        "'Mega_Cheeseburger' : 289,\n",
        "'Fries' : 139,\n",
        "'Hot_Wings' : 99,\n",
        "'Rice_Bowl' : 299,\n",
        "'Soft_Drinks' : 50\n",
        "}\n",
        "order1 = Order(menu, \"Chicken_Cheeseburger-10,Fries-30,Soft_Drinks-10\")\n",
        "print(order1.items)\n",
        "print()\n",
        "print('-'*35)\n",
        "print('Item         x Quantity : Price')\n",
        "print('-------------- --------- -------')\n",
        "index = 0\n",
        "total = 0\n",
        "while index < len(order1.items):\n",
        "    item = order1.items[index]\n",
        "    quantity = order1.items[index+1]\n",
        "    price = order1.items[index+2]\n",
        "    print(f'{item:20} x {quantity:2} : {price:7.2f}')\n",
        "    total += price\n",
        "    index += 3 # Going to next item\n",
        "print('-'*35)\n",
        "print(f'Total:                      {total:7.2f}')\n",
        "print('-'*35)"
      ]
    },
    {
      "cell_type": "markdown",
      "metadata": {
        "id": "JUT55g15bA3K"
      },
      "source": [
        "***05***\n",
        "\n",
        "***Tracing***"
      ]
    },
    {
      "cell_type": "code",
      "execution_count": 16,
      "metadata": {
        "colab": {
          "base_uri": "https://localhost:8080/"
        },
        "id": "UfL5hALAbDyi",
        "outputId": "11661a4b-5721-44c0-85d5-3748190272d8"
      },
      "outputs": [
        {
          "name": "stdout",
          "output_type": "stream",
          "text": [
            "New Student\n",
            "Student Two\n",
            "New Student\n",
            "2.3\n",
            "3.3\n",
            "2.3\n",
            "old student\n",
            "oldest student\n",
            "oldest student\n",
            "2.3\n",
            "3.5\n",
            "3.5\n"
          ]
        }
      ],
      "source": [
        "class Student:\n",
        "    def __init__(self):\n",
        "        self.name = None\n",
        "        self.cgpa = 0.0\n",
        "s1 = Student()\n",
        "s2 = Student()\n",
        "s3 = None\n",
        "s1.name = \"Student One\"\n",
        "s1.cgpa = 2.3\n",
        "s3 = s1\n",
        "s2.name = \"Student Two\"\n",
        "s2.cgpa = s3.cgpa + 1\n",
        "s3.name = \"New Student\"\n",
        "print(s1.name)\n",
        "print(s2.name)\n",
        "print(s3.name)\n",
        "print(s1.cgpa)\n",
        "print(s2.cgpa)\n",
        "print(s3.cgpa)\n",
        "s3 = s2\n",
        "s1.name = \"old student\"\n",
        "s2.name = \"older student\"\n",
        "s3.name = \"oldest student\"\n",
        "s2.cgpa = s1.cgpa - s3.cgpa + 4.5\n",
        "print(s1.name)\n",
        "print(s2.name)\n",
        "print(s3.name)\n",
        "print(s1.cgpa)\n",
        "print(s2.cgpa)\n",
        "print(s3.cgpa)"
      ]
    }
  ],
  "metadata": {
    "colab": {
      "provenance": []
    },
    "kernelspec": {
      "display_name": "Python 3",
      "name": "python3"
    },
    "language_info": {
      "codemirror_mode": {
        "name": "ipython",
        "version": 3
      },
      "file_extension": ".py",
      "mimetype": "text/x-python",
      "name": "python",
      "nbconvert_exporter": "python",
      "pygments_lexer": "ipython3",
      "version": "3.12.2"
    }
  },
  "nbformat": 4,
  "nbformat_minor": 0
}
