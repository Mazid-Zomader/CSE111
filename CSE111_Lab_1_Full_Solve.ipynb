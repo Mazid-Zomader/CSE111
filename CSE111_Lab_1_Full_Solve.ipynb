{
  "nbformat": 4,
  "nbformat_minor": 0,
  "metadata": {
    "colab": {
      "provenance": []
    },
    "kernelspec": {
      "name": "python3",
      "display_name": "Python 3"
    },
    "language_info": {
      "name": "python"
    }
  },
  "cells": [
    {
      "cell_type": "markdown",
      "source": [
        "List"
      ],
      "metadata": {
        "id": "D5G-5sVOOmTM"
      }
    },
    {
      "cell_type": "code",
      "execution_count": null,
      "metadata": {
        "colab": {
          "base_uri": "https://localhost:8080/"
        },
        "id": "bwKGRAvbOLuo",
        "outputId": "1c2d7626-8aee-4563-f338-4dd4c3ef04e8"
      },
      "outputs": [
        {
          "output_type": "stream",
          "name": "stdout",
          "text": [
            "Enter a value : 10\n",
            "Enter a value : 20\n",
            "Enter a value : 20\n",
            "Enter a value : 30\n",
            "Enter a value : 10\n",
            "Enter a value : 50\n",
            "Enter a value : 90\n",
            "Enter a value : STOP\n",
            "10 - 2 times \n",
            "20 - 2 times \n",
            "30 - 1 times \n",
            "50 - 1 times \n",
            "90 - 1 times \n"
          ]
        }
      ],
      "source": [
        "# 01\n",
        "unique_list = []\n",
        "all_list = []\n",
        "freq_list = []\n",
        "flag = True\n",
        "\n",
        "while flag :\n",
        "  value = input('Enter a value : ')\n",
        "  if value == \"STOP\" :\n",
        "    flag = False\n",
        "  else :\n",
        "    all_list.append(int(value))\n",
        "    if int(value) not in unique_list :\n",
        "      unique_list.append(int(value))\n",
        "\n",
        "for i in range(len(unique_list)) :\n",
        "  count = 0\n",
        "  for j in range(len(all_list)) :\n",
        "    if unique_list[i] == all_list[j] :\n",
        "      count += 1\n",
        "    else :\n",
        "      pass\n",
        "  print(f'{unique_list[i]} - {count} times ')"
      ]
    },
    {
      "cell_type": "code",
      "source": [
        "# 02\n",
        "N = int(input())\n",
        "max = []\n",
        "sum = 0\n",
        "for index in range(N) :\n",
        "  sum1 = 0\n",
        "  value = input()\n",
        "  a = value.split(' ')\n",
        "  for index2 in range(len(a)) :\n",
        "    a[index2] = int(a[index2])\n",
        "  for index3 in range(len(a)) :\n",
        "    sum1 += a[index3]\n",
        "  if sum1 > sum  :\n",
        "    sum = sum1\n",
        "    max = []\n",
        "    for index4 in range(len(a)) :\n",
        "      max.append(a[index4])\n",
        "  else :\n",
        "    pass\n",
        "\n",
        "print(max)\n",
        "print(sum)"
      ],
      "metadata": {
        "colab": {
          "base_uri": "https://localhost:8080/"
        },
        "id": "AyCuyGWvORnm",
        "outputId": "81cdd22d-3f2a-4dfb-bebd-83b7141fc0a2"
      },
      "execution_count": null,
      "outputs": [
        {
          "output_type": "stream",
          "name": "stdout",
          "text": [
            "4\n",
            "1 2 3\n",
            "4 5 6\n",
            "10 11 12\n",
            "7 8 9\n",
            "[10, 11, 12]\n",
            "33\n"
          ]
        }
      ]
    },
    {
      "cell_type": "code",
      "source": [
        "# 03\n",
        "a = input()\n",
        "a_sp = a.split()\n",
        "for index in range(len(a_sp)) :\n",
        "  a_sp[index] = int(a_sp[index])\n",
        "\n",
        "b = input()\n",
        "b_sp = b.split()\n",
        "for index2 in range(len(b_sp)) :\n",
        "  b_sp[index2] = int(b_sp[index2])\n",
        "\n",
        "crs_mult= []\n",
        "for index3 in range(len(a_sp)) :\n",
        "  for index4 in range(len(b_sp)) :\n",
        "    crs_mult.append(a_sp[index3] * b_sp[index4])\n",
        "\n",
        "print('Cross Multiplication of above elements :')\n",
        "print(crs_mult)"
      ],
      "metadata": {
        "colab": {
          "base_uri": "https://localhost:8080/"
        },
        "id": "xCUN8RoDORvT",
        "outputId": "4f60e9e2-ce6d-4cd3-e517-17efd8edaccf"
      },
      "execution_count": null,
      "outputs": [
        {
          "output_type": "stream",
          "name": "stdout",
          "text": [
            "2 3 6\n",
            "3 4 5\n",
            "Cross Multiplication of above elements :\n",
            "[6, 8, 10, 9, 12, 15, 18, 24, 30]\n"
          ]
        }
      ]
    },
    {
      "cell_type": "code",
      "source": [
        "# 04\n",
        "\n",
        "def ub_jump(inp) :\n",
        "    inp_sp = inp.split()\n",
        "    for index in range(len(inp_sp)) :\n",
        "     inp_sp[index] = int(inp_sp[index])\n",
        "    #return(inp_sp)\n",
        "    diff_list = []\n",
        "    for index2 in range(len(inp_sp)-1) :\n",
        "          diff_list.append(abs(inp_sp[index2]-inp_sp[index2+1]))\n",
        "\n",
        "    #return(diff_list)\n",
        "    flag_ins = True\n",
        "    for i in range(1 , len(diff_list)+1) :\n",
        "        if i in diff_list :\n",
        "            pass\n",
        "        else :\n",
        "            flag_ins = False\n",
        "            break\n",
        "    if flag_ins :\n",
        "        return 'UB Jumper'\n",
        "    else :\n",
        "        return'Not UB Jumper'\n",
        "\n",
        "flag = True\n",
        "while flag :\n",
        "    inp = input()\n",
        "    if inp != 'STOP' :\n",
        "       print(ub_jump(inp))\n",
        "    else :\n",
        "       flag = False\n",
        "\n",
        "\n"
      ],
      "metadata": {
        "id": "Y7XJyIxNP7FN",
        "colab": {
          "base_uri": "https://localhost:8080/"
        },
        "outputId": "8b165bfe-06f3-4142-d360-848c59fc5b9f"
      },
      "execution_count": null,
      "outputs": [
        {
          "name": "stdout",
          "output_type": "stream",
          "text": [
            "1 4 2 3\n",
            "UB Jumper\n",
            "2 1 4 6 10\n",
            "UB Jumper\n",
            "1 4 2 -1 6\n",
            "Not UB Jumper\n",
            "STOP\n"
          ]
        }
      ]
    },
    {
      "cell_type": "code",
      "source": [
        "# 05\n",
        "a = input()\n",
        "a_l = []\n",
        "for i in range(len(a)) :\n",
        "  a_l.append(a[i])\n",
        "\n",
        "for j in range(len(a_l)) :\n",
        "  for k in range(j , len(a_l)) :\n",
        "    if ord(a_l[j]) > ord(a_l[k]) :\n",
        "      temp = a_l[j]\n",
        "      a_l[j] = a_l[k]\n",
        "      a_l[k] = temp\n",
        "    else :\n",
        "      pass\n",
        "\n",
        "st_temp = \"\"\n",
        "for l in range(len(a)) :\n",
        "  st_temp += str(a_l[l])\n",
        "\n",
        "temp_num_even = ''\n",
        "temp_num_odd = ''\n",
        "temp_low = ''\n",
        "temp_high = ''\n",
        "\n",
        "for index in range(len(st_temp)) :\n",
        "  if ord(st_temp[index]) > 96 and ord(st_temp[index]) < 123 :\n",
        "    temp_low += str(st_temp[index])\n",
        "  elif ord(st_temp[index]) > 64 and ord(st_temp[index]) < 91 :\n",
        "    temp_high = str(st_temp[index])\n",
        "  elif ord(st_temp[index]) > 47 and ord(st_temp[index]) < 58 :\n",
        "    if int(st_temp[index]) % 2 == 0 :\n",
        "      temp_num_even += st_temp[index]\n",
        "    else :\n",
        "      temp_num_odd += st_temp[index]\n",
        "  else :\n",
        "    pass\n",
        "\n",
        "final_ans = temp_low + temp_high + temp_num_odd + temp_num_even\n",
        "print(final_ans)"
      ],
      "metadata": {
        "colab": {
          "base_uri": "https://localhost:8080/"
        },
        "id": "RJ075vRuORx8",
        "outputId": "281a0d4e-7a28-44f4-8887-6b9c1732f82a"
      },
      "execution_count": null,
      "outputs": [
        {
          "output_type": "stream",
          "name": "stdout",
          "text": [
            "Bracu1234\n",
            "acruB1324\n"
          ]
        }
      ]
    },
    {
      "cell_type": "code",
      "source": [
        "# 06\n",
        "\n",
        "a  = input()\n",
        "a_sp = a.split()\n",
        "for index in range(len(a_sp)) :\n",
        "    a_sp[index] = int(a_sp[index])\n",
        "\n",
        "b  = input()\n",
        "b_sp = b.split()\n",
        "for index2 in range(len(b_sp)) :\n",
        "    b_sp[index2] = int(b_sp[index2])\n",
        "\n",
        "min = a_sp[1]\n",
        "\n",
        "remaining = []\n",
        "for index3 in range(len(b_sp)) :\n",
        "    remaining.append(5 - b_sp[index3])\n",
        "\n",
        "eligible = []\n",
        "for index4 in range(len(remaining)) :\n",
        "    if remaining[index4] >= min :\n",
        "        eligible.append(remaining[index4])\n",
        "    else :\n",
        "        pass\n",
        "\n",
        "print(f'Maximum {len(eligible)//3} team can be formed ')"
      ],
      "metadata": {
        "id": "lPa-6OW-P8sV",
        "colab": {
          "base_uri": "https://localhost:8080/"
        },
        "outputId": "784b5b37-ce22-4820-b4ab-fac2fa4dd43f"
      },
      "execution_count": null,
      "outputs": [
        {
          "output_type": "stream",
          "name": "stdout",
          "text": [
            "6 5\n",
            "0 0 0 0 0 0 \n",
            "Maximum 2 team can be formed \n"
          ]
        }
      ]
    },
    {
      "cell_type": "markdown",
      "source": [
        "Dictionary & Tuple"
      ],
      "metadata": {
        "id": "AzzgwFxWOaWD"
      }
    },
    {
      "cell_type": "code",
      "source": [
        "# 01\n",
        "\n",
        "def make_dict(strng) :\n",
        "    st_sp = strng.split(',')\n",
        "    d1 = {}\n",
        "    for i in range(len(st_sp)) :\n",
        "        d_split = st_sp[i].split(':')\n",
        "        for index in range(len(d_split)) :\n",
        "            d1[d_split[index]] = int(d_split[index+1])\n",
        "            break\n",
        "    return d1\n",
        "    #print(d1)\n",
        "no_1  = 'a: 100,b: 100,c: 200,d: 300'\n",
        "no_2 = 'a: 300,b: 200,d: 400,e: 200'\n",
        "mod_st_1 = make_dict(no_1)\n",
        "\n",
        "mod_st_2 = make_dict(no_2)\n",
        "\n",
        "\n",
        "for key , value in mod_st_2.items() :\n",
        "    if key not in mod_st_1.keys() :\n",
        "        mod_st_1[key] = value\n",
        "    else :\n",
        "        mod_st_1[key] = mod_st_1[key] + mod_st_2[key]\n",
        "print(mod_st_1)\n",
        "value = []\n",
        "for value1 in (mod_st_1.values()) :\n",
        "    value.append(value1)\n",
        "\n",
        "temp = 0\n",
        "def sorting(list) :\n",
        "    for index1 in range(len(list)) :\n",
        "        for index2 in range(index1 , len(list)) :\n",
        "            if list[index1] < list[index2] :\n",
        "                pass\n",
        "            else :\n",
        "                temp = list[index1]\n",
        "                list[index1] = list[index2]\n",
        "                list[index2] = temp\n",
        "    return list\n",
        "\n",
        "sort_list = sorting(value)\n",
        "uni_list = []\n",
        "for index3 in range(len(sort_list)) :\n",
        "    if sort_list[index3] in uni_list :\n",
        "        pass\n",
        "    else :\n",
        "        uni_list.append(sort_list[index3])\n",
        "\n",
        "print(f'Values : {tuple(uni_list)}')"
      ],
      "metadata": {
        "colab": {
          "base_uri": "https://localhost:8080/"
        },
        "id": "uAvkMpP3OR0v",
        "outputId": "eb495981-679c-4604-8836-6d4f3cdeb0d2"
      },
      "execution_count": null,
      "outputs": [
        {
          "output_type": "stream",
          "name": "stdout",
          "text": [
            "{'a': 400, 'b': 300, 'c': 200, 'd': 700, 'e': 200}\n",
            "Values : (200, 300, 400, 700)\n"
          ]
        }
      ]
    },
    {
      "cell_type": "code",
      "source": [
        "# 02\n",
        "uni_dict = {}\n",
        "all_dict = {}\n",
        "freq_dict = {}\n",
        "flag = True\n",
        "count = 0\n",
        "while flag :\n",
        "    value = input('Enter : ')\n",
        "    if value == 'STOP' :\n",
        "        flag = False\n",
        "    else :\n",
        "        all_dict[count] = int(value)\n",
        "        count += 1\n",
        "\n",
        "for key , value in all_dict.items() :\n",
        "    if value not in uni_dict.values() :\n",
        "        uni_dict[key] = value\n",
        "    else :\n",
        "        pass\n",
        "\n",
        "\n",
        "\n",
        "for key , value in uni_dict.items() :\n",
        "    count = 0\n",
        "    for key1 , value1 in all_dict.items() :\n",
        "        if value1 == value :\n",
        "            count += 1\n",
        "        else :\n",
        "            pass\n",
        "    print(f'{value} - {count} times')"
      ],
      "metadata": {
        "colab": {
          "base_uri": "https://localhost:8080/"
        },
        "id": "PwzH2nfNQjSt",
        "outputId": "b33347d4-f3c0-4101-b1f8-7a95442f31cd"
      },
      "execution_count": null,
      "outputs": [
        {
          "output_type": "stream",
          "name": "stdout",
          "text": [
            "Enter : 10\n",
            "Enter : 20\n",
            "Enter : 20\n",
            "Enter : 30\n",
            "Enter : 10\n",
            "Enter : 50\n",
            "Enter : 90\n",
            "Enter : STOP\n",
            "10 - 2 times\n",
            "20 - 2 times\n",
            "30 - 1 times\n",
            "50 - 1 times\n",
            "90 - 1 times\n"
          ]
        }
      ]
    },
    {
      "cell_type": "code",
      "source": [
        "# 03\n",
        "\n",
        "sample = input('Enter : ')\n",
        "sample_list = sample.split(',')\n",
        "new_list = []\n",
        "dict = {}\n",
        "for index in range(len(sample_list)) :\n",
        "    list_split = sample_list[index].split(':')\n",
        "    for index2 in range(len(list_split)) :\n",
        "        dict[list_split[index2]] = list_split[index2 + 1]\n",
        "        break\n",
        "def inverse(dict) :\n",
        "    new_dict = {}\n",
        "    for key , value in dict.items() :\n",
        "        new_list = []\n",
        "        if dict[key] not in new_dict.keys() :\n",
        "\n",
        "            new_dict[value] = new_list\n",
        "        else :\n",
        "            #new_dict[value] = new_list\n",
        "            pass\n",
        "        key_list  = []\n",
        "        for key2 in dict.keys() :\n",
        "            key_list.append(key2)\n",
        "    for key1 , value1 in dict.items():\n",
        "        if key1 in key_list :\n",
        "            new_dict[value1].append(key1)\n",
        "        else :\n",
        "            pass\n",
        "    return(new_dict)\n",
        "\n",
        "\n",
        "print(inverse(dict))"
      ],
      "metadata": {
        "colab": {
          "base_uri": "https://localhost:8080/"
        },
        "id": "umzA7wKzxuAO",
        "outputId": "65ec33ad-ba27-4b4c-e348-84cb33b8a90e"
      },
      "execution_count": null,
      "outputs": [
        {
          "output_type": "stream",
          "name": "stdout",
          "text": [
            "Enter : key1 : value1, key2 : value2, key3 : value1, key4 : value2\n",
            "{' value1': ['key1 ', ' key3 '], ' value2': [' key2 ', ' key4 ']}\n"
          ]
        }
      ]
    },
    {
      "cell_type": "code",
      "source": [
        "# 04\n",
        "\n",
        "a = input('Enter : ')\n",
        "dict ={}\n",
        "count = 1\n",
        "for index in range (len(a)) :\n",
        "    b = a[index]\n",
        "    if a[index] == \" \" :\n",
        "        pass\n",
        "    elif a[index] in dict.keys() :\n",
        "        dict[a[index]] += 1\n",
        "    else :\n",
        "        count = 1\n",
        "        dict[a[index]] = count\n",
        "print(dict)"
      ],
      "metadata": {
        "colab": {
          "base_uri": "https://localhost:8080/"
        },
        "id": "JQhF9neHm0zb",
        "outputId": "a71f263f-1343-4caf-ad5e-72021235f13e"
      },
      "execution_count": null,
      "outputs": [
        {
          "output_type": "stream",
          "name": "stdout",
          "text": [
            "Enter : python programming is fun\n",
            "{'p': 2, 'y': 1, 't': 1, 'h': 1, 'o': 2, 'n': 3, 'r': 2, 'g': 2, 'a': 1, 'm': 2, 'i': 2, 's': 1, 'f': 1, 'u': 1}\n"
          ]
        }
      ]
    },
    {
      "cell_type": "code",
      "source": [
        "# 05\n",
        "# a = input('Enter a word : ')\n",
        "# b = input('Enter a word : ')\n",
        "# if len(a) != len(b) :\n",
        "#     print('Those strings are not anagrams.')\n",
        "# else :\n",
        "#     dict = {}\n",
        "#     for index in range(2) :\n",
        "#         dict[index] = a\n",
        "#         a = b\n",
        "#     flag = True\n",
        "#     for index1 in range(len(dict)) :\n",
        "#         for index2 in range(1,len(dict)) :\n",
        "#             for index3 in range(len(dict[index1])) :\n",
        "#                 for index4 in range(len(dict[index2])) :\n",
        "#                     #a = dict[index1][index3]\n",
        "#                     #b = dict[index2][index4]\n",
        "#                     if dict[index1][index3] in dict[index2] :\n",
        "#                         pass\n",
        "#                     else :\n",
        "#                      flag = False\n",
        "#                      break\n",
        "#     if flag:\n",
        "#       print('Those strings are anagrams.')\n",
        "#     else :\n",
        "#       print('Those strings are not anagrams.')\n",
        "\n",
        "\n",
        "\n",
        "\n",
        "\n",
        "\n",
        "\n",
        "\n",
        "\n",
        "\n",
        "a = input('Enter 1st word : ')\n",
        "b = input('Enter 2nd word : ')\n",
        "dict = {}\n",
        "if len(a) != len(b) :\n",
        "    flag = False\n",
        "else :\n",
        "    for index in range(2) :\n",
        "        dict[index] = a\n",
        "        a= b\n",
        "    a0 = dict[0]\n",
        "    a1 = dict[1]\n",
        "    flag = True\n",
        "    for index1 in range(len(dict[0])) :\n",
        "        if dict[0][index] in a1 :\n",
        "          pass\n",
        "        else :\n",
        "            flag = False\n",
        "            break\n",
        "    for index2 in range(len(dict[1])) :\n",
        "      if dict[1][index2] in a0 :\n",
        "        pass\n",
        "      else :\n",
        "        flag = False\n",
        "        break\n",
        "if flag :\n",
        "    print('Those strings are anagrams')\n",
        "else :\n",
        "    print('Those strings are not anagrams')"
      ],
      "metadata": {
        "colab": {
          "base_uri": "https://localhost:8080/"
        },
        "id": "iJSsjg1lsxSb",
        "outputId": "5bebac40-c59d-42b0-8a28-4ec3c08fdef4"
      },
      "execution_count": null,
      "outputs": [
        {
          "output_type": "stream",
          "name": "stdout",
          "text": [
            "Enter 1st word : live\n",
            "Enter 2nd word : evil\n",
            "Those strings are anagrams\n"
          ]
        }
      ]
    },
    {
      "cell_type": "code",
      "source": [
        "# 06\n",
        "\n",
        "cell = {'1' : '.,?!:' ,'2' : 'ABC' ,'3' : 'DEF' ,'4' : 'GHI' ,'5' : 'JKL' ,'6' : 'MNO' ,'7' : 'PQRS' ,'8' : 'TUV' ,'9' : 'WXYZ' ,'0' : ' ' }\n",
        "inp1 = input('Enter keyword : ')\n",
        "inp = inp1.upper()\n",
        "output = ''\n",
        "key1  = []\n",
        "value1 = []\n",
        "for key in cell.keys() :\n",
        "    key1.append(key)\n",
        "\n",
        "for value in cell.values() :\n",
        "    value1.append(value)\n",
        "\n",
        "for index in range(len(inp)) :\n",
        "    a = inp[index]\n",
        "    for index2 in range(len(value1)) :\n",
        "        b = value1[index2]\n",
        "        if inp[index] not in value1[index2] :\n",
        "            pass\n",
        "        else :\n",
        "            for index1 in range(len(b)) :\n",
        "                if inp[index] == b[index1] :\n",
        "                    output += key1[index2] * (index1+1)\n",
        "                    break\n",
        "                else :\n",
        "                    pass\n",
        "            break\n",
        "print(output)\n",
        "if int(output) == 4433555555666110966677755531111 :\n",
        "    print('Pass')\n",
        "else :\n",
        "    print('ভুল আসে')"
      ],
      "metadata": {
        "colab": {
          "base_uri": "https://localhost:8080/"
        },
        "id": "ydCj86ol1tI_",
        "outputId": "88bc6bc2-f096-47b2-aa02-35cd124f32fe"
      },
      "execution_count": null,
      "outputs": [
        {
          "output_type": "stream",
          "name": "stdout",
          "text": [
            "Enter keyword : Hello, World!\n",
            "4433555555666110966677755531111\n",
            "Pass\n"
          ]
        }
      ]
    }
  ]
}