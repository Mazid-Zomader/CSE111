{
  "cells": [
    {
      "cell_type": "code",
      "execution_count": 47,
      "metadata": {
        "colab": {
          "base_uri": "https://localhost:8080/",
          "height": 53
        },
        "id": "40tvXnLIyGj1",
        "outputId": "a01f4577-f3b9-4f52-ec97-7bf50d6a1f0f"
      },
      "outputs": [
        {
          "name": "stdout",
          "output_type": "stream",
          "text": [
            "(152,48)\n"
          ]
        },
        {
          "output_type": "execute_result",
          "data": {
            "text/plain": [
              "'Score is 20.8 . You are Normal'"
            ],
            "application/vnd.google.colaboratory.intrinsic+json": {
              "type": "string"
            }
          },
          "metadata": {},
          "execution_count": 47
        }
      ],
      "source": [
        "# 01\n",
        "\n",
        "def BMI_calc( height , weight ) :\n",
        "    height = (height)/100\n",
        "    BMI  = weight / ((height)*(height))\n",
        "    status = ''\n",
        "    if BMI < 18.5 :\n",
        "        status = 'Underweight'\n",
        "    elif BMI < 24.9 :\n",
        "        status = 'Normal'\n",
        "    elif BMI < 30 :\n",
        "      status = 'Overweight'\n",
        "    else :\n",
        "      status = 'Obese'\n",
        "    return f'Score is {round(BMI , 1)} . You are {status}'\n",
        "\n",
        "#weight  = int(input('Enter youe weight in KG : '))\n",
        "#height = int(input('Enter youe height in CM : '))\n",
        "#BMI_calc(height , weight)\n",
        "a = input()\n",
        "# print(type(a))\n",
        "# a = tuple(a)\n",
        "# print(type(a))\n",
        "# print(a)\n",
        "#for i in len(a) :\n",
        "#  print(i)\n",
        "list = []\n",
        "temp = ''\n",
        "for i in range(1 , len(a)-1) :\n",
        "  if a[i] == ',' :\n",
        "    list.append(int(temp))\n",
        "    temp = ''\n",
        "  else :\n",
        "    temp += a[i]\n",
        "list.append(int(temp))\n",
        "list = tuple(list)\n",
        "# print(list)\n",
        "# print(len(list))\n",
        "height=list[0]\n",
        "weight = list[1]\n",
        "BMI_calc(height , weight)\n",
        "\n"
      ]
    },
    {
      "cell_type": "code",
      "source": [
        "# 02\n",
        "\n",
        "def total_price(Food , Location = 'Mohakhali') :\n",
        "    menu = {'BBQ Chicken Cheese Burger' : 250 , 'Beef Burger' : 170 , 'Naga Drums' : 200}\n",
        "    price = 0\n",
        "    for index in menu.keys() :\n",
        "        if Food == index :\n",
        "            price += menu[index]\n",
        "        else :\n",
        "            pass\n",
        "    de_ch = 0\n",
        "    if Location == 'Mohakhali' :\n",
        "        de_ch = 40\n",
        "\n",
        "    else :\n",
        "        de_ch = 60\n",
        "\n",
        "    Total_price = price + de_ch + ((8/100)*price)\n",
        "\n",
        "    return f'Your total price will be {Total_price} taka'\n",
        "\n",
        "\n",
        "item = input('Enter you favourite food : ')\n",
        "loca = input('Please enter your location  : ')\n",
        "print(total_price(item , loca ))\n",
        "\n",
        "print(total_price('Beef Burger'))"
      ],
      "metadata": {
        "colab": {
          "base_uri": "https://localhost:8080/"
        },
        "id": "ZtHz1vLdHAa3",
        "outputId": "79bb737d-13e0-4bee-f3b9-b7610c0dd4b6"
      },
      "execution_count": 37,
      "outputs": [
        {
          "output_type": "stream",
          "name": "stdout",
          "text": [
            "Enter you favourite food : Beef Burger\n",
            "Please enter your location  : Dhanmondi\n",
            "Your total price will be 243.6 taka\n",
            "Your total price will be 223.6 taka\n"
          ]
        }
      ]
    },
    {
      "cell_type": "code",
      "source": [
        "# 03\n",
        "\n",
        "def replace_domain(email , change , old_domain = 'kaaj.com') :\n",
        "    main = ''\n",
        "    index = -1\n",
        "    for index2 in range(len(email)) :\n",
        "        if email[index2] == '@' :\n",
        "            index = index2\n",
        "        else :\n",
        "            pass\n",
        "    name = email[:index ]\n",
        "    domain = email[index+1 : ]\n",
        "\n",
        "\n",
        "    if domain == change :\n",
        "        return f'Unchanged : {email}'\n",
        "    else :\n",
        "      a = name+'@'+change\n",
        "      return f'Changed : {a}'\n",
        "\n",
        "print(replace_domain('alice@kaaj.com' , 'sheba.xyz' ,'kaaj.com'))\n",
        "print(replace_domain('bob@sheba.xyz' , 'sheba.xyz'))"
      ],
      "metadata": {
        "colab": {
          "base_uri": "https://localhost:8080/"
        },
        "id": "l7OX3sFkRZbs",
        "outputId": "fdae49ae-130b-4b67-c3c2-921ba1da9b3d"
      },
      "execution_count": 42,
      "outputs": [
        {
          "output_type": "stream",
          "name": "stdout",
          "text": [
            "Changed : alice@sheba.xyz\n",
            "Unchanged : bob@sheba.xyz\n"
          ]
        }
      ]
    },
    {
      "cell_type": "code",
      "source": [
        "# 04\n",
        "\n",
        "def palindrome(temp) :\n",
        "    flag = True\n",
        "    word = ''\n",
        "    for index3 in range(len(temp)) :\n",
        "        if temp[index3] == \" \" :\n",
        "            pass\n",
        "        else :\n",
        "            word += temp[index3]\n",
        "    for index in range(len(word)) :\n",
        "        a = word[index]\n",
        "        b = word[len(word)-index-1]\n",
        "        if index > (len(word)-index-1) :\n",
        "            break\n",
        "        else :\n",
        "            if word[index] == word[len(word)-index-1] :\n",
        "                pass\n",
        "            else :\n",
        "                flag = False\n",
        "    if flag :\n",
        "        return 'Palindrome'\n",
        "    else :\n",
        "        return 'Not a palindrome'\n",
        "\n",
        "word = input('Enter a word : ')\n",
        "palindrome(word)"
      ],
      "metadata": {
        "colab": {
          "base_uri": "https://localhost:8080/",
          "height": 53
        },
        "id": "nQ3sYa4f_R6F",
        "outputId": "eceb6dc8-a03d-41b1-aa35-829fbd601323"
      },
      "execution_count": 30,
      "outputs": [
        {
          "name": "stdout",
          "output_type": "stream",
          "text": [
            "Enter a word : nurses run\n"
          ]
        },
        {
          "output_type": "execute_result",
          "data": {
            "text/plain": [
              "'Palindrome'"
            ],
            "application/vnd.google.colaboratory.intrinsic+json": {
              "type": "string"
            }
          },
          "metadata": {},
          "execution_count": 30
        }
      ]
    },
    {
      "cell_type": "code",
      "source": [
        "# 05\n",
        "\n",
        "a = input('Enter : ')\n",
        "b = ''\n",
        "for index in range(1,len(a)-1) :\n",
        "    b += a[index]\n",
        "\n",
        "b = int(b)\n",
        "# print(b , type(b))\n",
        "\n",
        "def y_m_d_calc(num_day) :\n",
        "    num_year = num_day // 365\n",
        "    num_mon = (num_day - num_year * 365 ) // 30\n",
        "    num_rem_day = (num_day - num_year * 365 - num_mon * 30)\n",
        "    return (f'{num_year} years , {num_mon} months and {num_rem_day} days')\n",
        "\n",
        "y_m_d_calc(b)"
      ],
      "metadata": {
        "colab": {
          "base_uri": "https://localhost:8080/",
          "height": 53
        },
        "id": "urs-bmppCPHl",
        "outputId": "e694eeb7-d8b4-4482-d02e-4125594e46c6"
      },
      "execution_count": 46,
      "outputs": [
        {
          "name": "stdout",
          "output_type": "stream",
          "text": [
            "Enter : (4320)\n"
          ]
        },
        {
          "output_type": "execute_result",
          "data": {
            "text/plain": [
              "'11 years , 10 months and 5 days'"
            ],
            "application/vnd.google.colaboratory.intrinsic+json": {
              "type": "string"
            }
          },
          "metadata": {},
          "execution_count": 46
        }
      ]
    }
  ],
  "metadata": {
    "kernelspec": {
      "display_name": "Python 3",
      "language": "python",
      "name": "python3"
    },
    "language_info": {
      "codemirror_mode": {
        "name": "ipython",
        "version": 3
      },
      "file_extension": ".py",
      "mimetype": "text/x-python",
      "name": "python",
      "nbconvert_exporter": "python",
      "pygments_lexer": "ipython3",
      "version": "3.12.1"
    },
    "colab": {
      "provenance": []
    }
  },
  "nbformat": 4,
  "nbformat_minor": 0
}