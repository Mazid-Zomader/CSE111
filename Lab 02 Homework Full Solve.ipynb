{
  "cells": [
    {
      "cell_type": "markdown",
      "metadata": {
        "id": "hx6NyndUyPNr"
      },
      "source": [
        "01"
      ]
    },
    {
      "cell_type": "code",
      "execution_count": 1,
      "metadata": {
        "colab": {
          "base_uri": "https://localhost:8080/"
        },
        "id": "hBFJMCuHyIUB",
        "outputId": "a93a78eb-ba85-4a1d-bb23-a64b813082b8"
      },
      "outputs": [
        {
          "name": "stdout",
          "output_type": "stream",
          "text": [
            "Highest fee was 1000 tk which was paid by Neymar , Bale \n",
            "Highest fee was 1200 tk which was paid by Steyn \n"
          ]
        }
      ],
      "source": [
        "def hospital_fee(**kwargs)  :\n",
        "    key = []\n",
        "    value = []\n",
        "    for key1 , value1 in kwargs.items() :\n",
        "        key.append(key1)\n",
        "        value.append(value1)\n",
        "    max_amount = max(value)\n",
        "    max_payer = []\n",
        "    for index in key :\n",
        "        if int(kwargs[index]) == int(max_amount) :\n",
        "            max_payer.append(index)\n",
        "        else :\n",
        "            pass\n",
        "    payer_string = ''\n",
        "    for index2 in range(len(max_payer)) :\n",
        "        if index2 == len(max_payer)-1 :\n",
        "            payer_string += (max_payer[index2])\n",
        "        else :\n",
        "            payer_string += (max_payer[index2])\n",
        "            payer_string += ' , '\n",
        "    return max_amount , payer_string\n",
        "max_amount , max_payer = hospital_fee(Dembele = 600,Neymar =1000,  Reus = 500, Bale = 1000)\n",
        "print(f'Highest fee was {max_amount} tk which was paid by {max_payer} ')\n",
        "max_amount , max_payer = hospital_fee(Mashrafe = 400, Bumrah = 900, Steyn = 1200, Cummins = 900, Wood = 400, Marsh = 700)\n",
        "print(f'Highest fee was {max_amount} tk which was paid by {max_payer} ')"
      ]
    },
    {
      "cell_type": "markdown",
      "metadata": {
        "id": "kz7sSNZkyPzv"
      },
      "source": [
        "02"
      ]
    },
    {
      "cell_type": "code",
      "execution_count": 2,
      "metadata": {
        "colab": {
          "base_uri": "https://localhost:8080/"
        },
        "id": "LYr4KpFGtFJT",
        "outputId": "90bd5f54-420e-46e0-a69e-3b074b6aabe8"
      },
      "outputs": [
        {
          "name": "stdout",
          "output_type": "stream",
          "text": [
            "True\n",
            "False\n",
            "True\n"
          ]
        }
      ],
      "source": [
        "def is_james_bond(list) :\n",
        "    new_string = ''\n",
        "    match_string ='007'\n",
        "    for index in range(len(list)) :\n",
        "        if list[index] == 0 or list[index] == 7 :\n",
        "            new_string += str(list[index])\n",
        "        else :\n",
        "            pass\n",
        "    if match_string in new_string  :\n",
        "        return True\n",
        "    else :\n",
        "        return False\n",
        "\n",
        "list_1 = [1,2,3,0,0,7,5]\n",
        "test_1 = is_james_bond(list_1)\n",
        "print(test_1)\n",
        "list_2 = [1,7,2,0,4,5,0]\n",
        "test_2 = is_james_bond(list_2)\n",
        "print(test_2)\n",
        "list_3 = [1,0,2,0,4,7,5]\n",
        "test_3 = is_james_bond(list_3)\n",
        "print(test_3)"
      ]
    },
    {
      "cell_type": "markdown",
      "metadata": {
        "id": "vMAjC1dfyQmV"
      },
      "source": [
        "03"
      ]
    },
    {
      "cell_type": "code",
      "execution_count": null,
      "metadata": {
        "colab": {
          "base_uri": "https://localhost:8080/"
        },
        "id": "NyJames7yQ0D",
        "outputId": "bb0037d2-b9b6-4e69-b476-e5c4f6867b91"
      },
      "outputs": [
        {
          "data": {
            "text/plain": [
              "{'A': ['Bob'],\n",
              " 'B': ['Charlie'],\n",
              " 'C': ['Grace'],\n",
              " 'D': ['Alice', 'David', 'Eve', 'Frank'],\n",
              " 'E': []}"
            ]
          },
          "execution_count": 2,
          "metadata": {},
          "output_type": "execute_result"
        }
      ],
      "source": [
        "def assign_students_to_sections(*args) :\n",
        "    dict = {}\n",
        "    for index in range(len(args[0])) :\n",
        "        b = args[0][index]\n",
        "        dict[b] = []\n",
        "        #print(b)\n",
        "    for index2 in range(1 , len(args)) :\n",
        "        c = args[index2]\n",
        "        sum = 0\n",
        "        for index3 in range(len(c)) :\n",
        "            sum += ord(c[index3])\n",
        "        d = sum % 5\n",
        "        if d == 0 :\n",
        "            dict['A'].append(c)\n",
        "        elif d == 1 :\n",
        "            dict['B'].append(c)\n",
        "        elif d == 2 :\n",
        "            dict['C'].append(c)\n",
        "        elif d == 3 :\n",
        "            dict['D'].append(c)\n",
        "        else :\n",
        "            dict['E'].append(c)\n",
        "    return dict\n",
        "\n",
        "assign_students_to_sections('ABCDE', 'Alice', 'Bob', 'Charlie', 'David', 'Eve', 'Frank', 'Grace')"
      ]
    },
    {
      "cell_type": "markdown",
      "metadata": {
        "id": "T1enFPrFyRIO"
      },
      "source": [
        "04"
      ]
    },
    {
      "cell_type": "code",
      "execution_count": null,
      "metadata": {
        "colab": {
          "base_uri": "https://localhost:8080/"
        },
        "id": "eXiWHsHyyRZe",
        "outputId": "34363b6b-fb89-48ba-8bab-9ca555405354"
      },
      "outputs": [
        {
          "name": "stdout",
          "output_type": "stream",
          "text": [
            "First Name : MD\n",
            "Middle Name : \n",
            "Last Name : Ishmam\n",
            "Student ID : 19992564\n",
            "Username will be  : MDmam_2564\n"
          ]
        }
      ],
      "source": [
        "def username_generator(first , last , id , middle = \"\") :\n",
        "    username = ''\n",
        "    username += first[0:3].upper()\n",
        "    username += middle.capitalize()\n",
        "    username += last[len(last)-3 : len(last)].lower()\n",
        "    username += '_'\n",
        "    id = str(id)\n",
        "    username += id[len(id)-4 : len(id)]\n",
        "    \"'username += first[0:3].upper() + middle.capitalize() + last[len(last)-3 : len(last)].lower() +'_'+ id[len(id)-4 : len(id)]'\"\n",
        "    return f'Username will be  : {username}'\n",
        "\n",
        "\n",
        "\n",
        "\n",
        "first_name, middle_name, last_name, student_id= input (\"First Name : \"), input (\"Middle Name : \"), input (\"Last Name : \"), int (input (\"Student ID : \"))\n",
        "# print (first_name)\n",
        "# print(middle_name)\n",
        "# print(last_name)\n",
        "# print(student_id)\n",
        "if middle_name == \"\" :\n",
        "  print(username_generator (first_name, last_name, student_id))\n",
        "else :\n",
        "  print(username_generator(first_name, last_name, student_id, middle_name))"
      ]
    },
    {
      "cell_type": "markdown",
      "metadata": {
        "id": "FpoMibRKySBE"
      },
      "source": [
        "05"
      ]
    },
    {
      "cell_type": "code",
      "execution_count": null,
      "metadata": {
        "colab": {
          "base_uri": "https://localhost:8080/"
        },
        "id": "21BUaivEySZG",
        "outputId": "687e3ff6-5436-4c2a-bd57-9ea565f69350"
      },
      "outputs": [
        {
          "name": "stdout",
          "output_type": "stream",
          "text": [
            "Encrypted Keys : ['a101108X', 'b111B', 't100117114Y']\n"
          ]
        }
      ],
      "source": [
        "def key_generator (*args) :\n",
        "    Encrypted_Keys = []\n",
        "    for index in range(len(args)) :\n",
        "        key = ''\n",
        "        c = args[index]\n",
        "        #new_key = ''\n",
        "        new_key = c[0] + c[len(c)-2 : 0 : -1] + c[len(c)-1]\n",
        "        for index2 in range(len(new_key)) :\n",
        "            if index2  == 0 :\n",
        "                key += new_key[index2].lower()\n",
        "            elif index2 == len(args[index])-1 :\n",
        "                key += new_key[index2].upper()\n",
        "            else :\n",
        "                key += str(ord(new_key[index2]))\n",
        "        Encrypted_Keys.append(key)\n",
        "    return(Encrypted_Keys)\n",
        "\n",
        "key_list = key_generator (\"Alex\", \"Bob\", \"Trudy\")\n",
        "print(f'Encrypted Keys : {key_list}')"
      ]
    },
    {
      "cell_type": "markdown",
      "metadata": {
        "id": "44jcLNv5yStm"
      },
      "source": [
        "06"
      ]
    },
    {
      "cell_type": "code",
      "execution_count": null,
      "metadata": {
        "colab": {
          "base_uri": "https://localhost:8080/"
        },
        "id": "S8p4ktfRyS54",
        "outputId": "3c7d825f-2309-415a-a425-9a19e8c5a9e3"
      },
      "outputs": [
        {
          "name": "stdout",
          "output_type": "stream",
          "text": [
            "Enter no of rounds : 3\n",
            "Enter : rock\n",
            "Computer :  scissor\n",
            "Enter : paper\n",
            "Computer :  paper\n",
            "Enter : scissor\n",
            "Computer :  paper\n",
            "Computer's Score : 0\n",
            "Your Score : 2\n",
            "Congratulation !! You have won the game!\n"
          ]
        }
      ],
      "source": [
        "def playRockPaperScissor(rounds) :\n",
        "    import random\n",
        "    computer_score = 0\n",
        "    your_score = 0\n",
        "    for index in range(rounds) :\n",
        "        a = ['rock' , 'paper' , 'scissor']\n",
        "        b = random.choice(a)\n",
        "        c = input('Enter : ')\n",
        "        print('Computer : ',b)\n",
        "        if b == 'rock' and c == 'scissor' :\n",
        "            computer_score += 1\n",
        "        elif b == 'scissor' and c == 'paper' :\n",
        "            computer_score += 1\n",
        "        elif b == 'paper' and c == 'rock' :\n",
        "            computer_score += 1\n",
        "        else :\n",
        "            if b == c :\n",
        "                pass\n",
        "            elif c == 'rock' or c == 'paper' or c == 'scissor' :\n",
        "                your_score += 1\n",
        "            else :\n",
        "                print(\"You are Dumb ! You can't even write correctly\")\n",
        "    print(f\"Computer's Score : {computer_score}\")\n",
        "    print(f\"Your Score : {your_score}\")\n",
        "    if computer_score > your_score :\n",
        "        print(\"Dumbass !! You can't even win. Computer has won the game!\")\n",
        "    elif computer_score == your_score :\n",
        "        print('Well done boii. This game is a tie')\n",
        "    else :\n",
        "        print(f'Congratulation !! You have won the game!')\n",
        "\n",
        "rounds = int(input('Enter no of rounds : '))\n",
        "playRockPaperScissor(rounds)"
      ]
    }
  ],
  "metadata": {
    "colab": {
      "provenance": []
    },
    "kernelspec": {
      "display_name": "Python 3",
      "name": "python3"
    },
    "language_info": {
      "codemirror_mode": {
        "name": "ipython",
        "version": 3
      },
      "file_extension": ".py",
      "mimetype": "text/x-python",
      "name": "python",
      "nbconvert_exporter": "python",
      "pygments_lexer": "ipython3",
      "version": "3.12.2"
    }
  },
  "nbformat": 4,
  "nbformat_minor": 0
}
