{
  "nbformat": 4,
  "nbformat_minor": 0,
  "metadata": {
    "colab": {
      "provenance": []
    },
    "kernelspec": {
      "name": "python3",
      "display_name": "Python 3"
    },
    "language_info": {
      "name": "python"
    }
  },
  "cells": [
    {
      "cell_type": "markdown",
      "source": [
        "01"
      ],
      "metadata": {
        "id": "lAm34GT4n68K"
      }
    },
    {
      "cell_type": "code",
      "execution_count": 3,
      "metadata": {
        "colab": {
          "base_uri": "https://localhost:8080/"
        },
        "id": "t_NeGtMhjXQB",
        "outputId": "8da9bb8a-0d15-480e-a382-60b6b76a6c19"
      },
      "outputs": [
        {
          "output_type": "stream",
          "name": "stdout",
          "text": [
            "Enter youe height in CM : 152\n",
            "Enter youe weight in KG : 48\n",
            "Score is 20.8 . You are Normal\n"
          ]
        }
      ],
      "source": [
        "def BMI_calc( height , weight ) :\n",
        "    height = (height)/100\n",
        "    BMI  = weight / ((height)*(height))\n",
        "    status = ''\n",
        "    if BMI < 18.5 :\n",
        "        status = 'Underweight'\n",
        "    elif BMI < 24.9 :\n",
        "        status = 'Normal'\n",
        "    elif BMI < 30 :\n",
        "      status = 'Overweight'\n",
        "    else :\n",
        "      status = 'Obese'\n",
        "    return f'Score is {round(BMI , 1)} . You are {status}'\n",
        "\n",
        "height = int(input('Enter youe height in CM : '))\n",
        "weight  = int(input('Enter youe weight in KG : '))\n",
        "BMI = BMI_calc(height , weight)\n",
        "print(BMI)\n",
        "# a = input()\n",
        "# # print(type(a))\n",
        "# # a = tuple(a)\n",
        "# # print(type(a))\n",
        "# # print(a)\n",
        "# #for i in len(a) :\n",
        "# #  print(i)\n",
        "# list = []\n",
        "# temp = ''\n",
        "# for i in range(1 , len(a)-1) :\n",
        "#   if a[i] == ',' :\n",
        "#     list.append(int(temp))\n",
        "#     temp = ''\n",
        "#   else :\n",
        "#     temp += a[i]\n",
        "# list.append(int(temp))\n",
        "# list = tuple(list)\n",
        "# # print(list)\n",
        "# # print(len(list))\n",
        "# height=list[0]\n",
        "# weight = list[1]\n",
        "# BMI_calc(height , weight)"
      ]
    },
    {
      "cell_type": "markdown",
      "source": [
        "02"
      ],
      "metadata": {
        "id": "97iEDewkn7Wp"
      }
    },
    {
      "cell_type": "code",
      "source": [
        "def Total_Price(item , location = 'Mohakhali') :\n",
        "  menu = {'BBQ Chicken Cheese Burger' : 250 , 'Beef Burger' : 170 , 'Naga Drums' : 200}\n",
        "  # Food_Price = 0\n",
        "  # for index in menu.keys() :\n",
        "  #   if item == index :\n",
        "  #     Food_Price += menu[item]\n",
        "  #   else :\n",
        "  #     pass\n",
        "  #return Food_Price\n",
        "  Food_Price = menu[item]\n",
        "  if location == 'Mohakhali' :\n",
        "    devi_ch = 40\n",
        "  else :\n",
        "    devi_ch = 60\n",
        "  total_price = Food_Price + devi_ch + ((8/100)*Food_Price)\n",
        "  return f'Total Price will be {total_price}'\n",
        "\n",
        "# item = input('Enter the food you want to eat : ')\n",
        "# location = input('Enter your location : ')\n",
        "# Total_Price(item , location)\n",
        "\n",
        "a = (Total_Price('Beef Burger' , 'Dhanmondi'))\n",
        "print(a)\n",
        "b = (Total_Price('Beef Burger' ))\n",
        "print(b)\n"
      ],
      "metadata": {
        "colab": {
          "base_uri": "https://localhost:8080/"
        },
        "id": "6hO_JIz_n7yy",
        "outputId": "f2c35ae8-d951-447c-8e57-4dac9acd8651"
      },
      "execution_count": 4,
      "outputs": [
        {
          "output_type": "stream",
          "name": "stdout",
          "text": [
            "Total Price will be 243.6\n",
            "Total Price will be 223.6\n"
          ]
        }
      ]
    },
    {
      "cell_type": "code",
      "source": [
        "def total_price(Food , Location = 'Mohakhali') :\n",
        "    menu = {'BBQ Chicken Cheese Burger' : 250 , 'Beef Burger' : 170 , 'Naga Drums' : 200}\n",
        "    price = 0\n",
        "    for index in menu.keys() :\n",
        "        if Food == index :\n",
        "            price += menu[index]\n",
        "        else :\n",
        "            pass\n",
        "    de_ch = 0\n",
        "    if Location == 'Mohakhali' :\n",
        "        de_ch = 40\n",
        "\n",
        "    else :\n",
        "        de_ch = 60\n",
        "\n",
        "    Total_price = price + de_ch + ((8/100)*price)\n",
        "\n",
        "    return f'Your total price will be {Total_price} taka'\n",
        "\n",
        "\n",
        "item = input('Enter you favourite food : ')\n",
        "loca = input('Please enter your location  : ')\n",
        "print(total_price(item , loca ))\n",
        "\n",
        "print(total_price('Beef Burger'))"
      ],
      "metadata": {
        "colab": {
          "base_uri": "https://localhost:8080/"
        },
        "id": "Uuxy4ByIvc-S",
        "outputId": "9da74464-093c-4f80-a759-6eb85bac56d9"
      },
      "execution_count": 5,
      "outputs": [
        {
          "output_type": "stream",
          "name": "stdout",
          "text": [
            "Enter you favourite food : Beef Burger\n",
            "Please enter your location  : Dhanmondi\n",
            "Your total price will be 243.6 taka\n",
            "Your total price will be 223.6 taka\n"
          ]
        }
      ]
    },
    {
      "cell_type": "markdown",
      "source": [
        "03"
      ],
      "metadata": {
        "id": "Tiuw4dpMn8F5"
      }
    },
    {
      "cell_type": "code",
      "source": [
        "def replace_domain(email , change , old_domain = 'kaaj.com') :\n",
        "    main = ''\n",
        "    index = -1\n",
        "    for index2 in range(len(email)) :\n",
        "        if email[index2] == '@' :\n",
        "            index = index2\n",
        "        else :\n",
        "            pass\n",
        "    name = email[:index ]\n",
        "    domain = email[index+1 : ]\n",
        "\n",
        "\n",
        "    if domain == change :\n",
        "        return f'Unchanged : {email}'\n",
        "    else :\n",
        "      a = name+'@'+change\n",
        "      return f'Changed : {a}'\n",
        "\n",
        "print(replace_domain('alice@kaaj.com' , 'sheba.xyz' ,'kaaj.com'))\n",
        "print(replace_domain('bob@sheba.xyz' , 'sheba.xyz'))"
      ],
      "metadata": {
        "colab": {
          "base_uri": "https://localhost:8080/"
        },
        "id": "bYA54UvAn98Z",
        "outputId": "17c86e6f-81ec-4b14-ce0d-56e5ffaa411e"
      },
      "execution_count": null,
      "outputs": [
        {
          "output_type": "stream",
          "name": "stdout",
          "text": [
            "Changed : alice@sheba.xyz\n",
            "Unchanged : bob@sheba.xyz\n"
          ]
        }
      ]
    },
    {
      "cell_type": "markdown",
      "source": [
        "04"
      ],
      "metadata": {
        "id": "JeefbpDjn-kx"
      }
    },
    {
      "cell_type": "code",
      "source": [
        "def palindrome(temp) :\n",
        "    flag = True\n",
        "    word = ''\n",
        "    for index3 in range(len(temp)) :\n",
        "        if temp[index3] == \" \" :\n",
        "            pass\n",
        "        else :\n",
        "            word += temp[index3]\n",
        "    for index in range(len(word)) :\n",
        "        a = word[index]\n",
        "        b = word[len(word)-index-1]\n",
        "        if index > (len(word)-index-1) :\n",
        "            break\n",
        "        else :\n",
        "            if word[index] == word[len(word)-index-1] :\n",
        "                pass\n",
        "            else :\n",
        "                flag = False\n",
        "    if flag :\n",
        "        return 'It is a Palindrome'\n",
        "    else :\n",
        "        return 'It is not a palindrome'\n",
        "\n",
        "word = input('Enter a word : ')\n",
        "pali = palindrome(word)\n",
        "print(pali)"
      ],
      "metadata": {
        "colab": {
          "base_uri": "https://localhost:8080/"
        },
        "id": "do51bij8n-3q",
        "outputId": "d18ff7fc-9ddd-443b-f25c-46c27dc96a58"
      },
      "execution_count": 7,
      "outputs": [
        {
          "output_type": "stream",
          "name": "stdout",
          "text": [
            "Enter a word : nurses run\n",
            "It is a Palindrome\n"
          ]
        }
      ]
    },
    {
      "cell_type": "markdown",
      "source": [
        "05"
      ],
      "metadata": {
        "id": "r3dOkSSen_5p"
      }
    },
    {
      "cell_type": "code",
      "source": [
        "def y_m_d_calc(num_day) :\n",
        "    num_year = num_day // 365\n",
        "    num_mon = (num_day - num_year * 365 ) // 30\n",
        "    num_rem_day = (num_day - num_year * 365 - num_mon * 30)\n",
        "    return (f'{num_year} years , {num_mon} months and {num_rem_day} days')\n",
        "\n",
        "a = int(input('Enter number of Days : '))\n",
        "b = y_m_d_calc(a)\n",
        "print(b)\n"
      ],
      "metadata": {
        "colab": {
          "base_uri": "https://localhost:8080/"
        },
        "id": "DU3l5Wo6oAVr",
        "outputId": "5c5b2144-ddc8-4d11-da3c-362eb53c7aad"
      },
      "execution_count": 8,
      "outputs": [
        {
          "output_type": "stream",
          "name": "stdout",
          "text": [
            "Enter number of Days : 4320\n",
            "11 years , 10 months and 5 days\n"
          ]
        }
      ]
    },
    {
      "cell_type": "markdown",
      "source": [
        "06"
      ],
      "metadata": {
        "id": "qUtUSsrKoA16"
      }
    },
    {
      "cell_type": "code",
      "source": [
        "def Capitalization(string) :\n",
        "    m = ''\n",
        "    index = 0\n",
        "    while index < len(string) :\n",
        "        b = string[index]\n",
        "        if index == 0 :\n",
        "            m += string[index].upper()\n",
        "            index += 1\n",
        "        elif index == len(string)-1 :\n",
        "            m += string[index]\n",
        "            break\n",
        "        elif string[index] == 'i' :\n",
        "            if string[index-1] ==\" \" and string[index+1] == ' ' :\n",
        "                m += string[index].upper()\n",
        "            else :\n",
        "                m += string[index]\n",
        "            index += 1\n",
        "        elif string[index] == '.' or string[index] == '?' :\n",
        "            if string[index] =='.' :\n",
        "                m += '.'\n",
        "                m += ' '\n",
        "                m += string[index+2].upper()\n",
        "                index += 3\n",
        "            elif string[index] == '?' :\n",
        "                m += '?'\n",
        "                m += ' '\n",
        "                m += string[index+2].upper()\n",
        "                index += 3\n",
        "            else :\n",
        "                pass\n",
        "        else :\n",
        "            m += string[index]\n",
        "            index += 1\n",
        "    return m\n",
        "a = \"my favourite animal is a dog. a dog has sharp teeth so that it can eat flesh very easily. do you know my pet dog's name? i love my pet very much.\"\n",
        "cap_a = Capitalization(a)\n",
        "print(cap_a)\n",
        "b = \"my name is Mazid. do you what my surname is? it's Zomader \"\n",
        "cap_b = Capitalization(b)\n",
        "print(cap_b)"
      ],
      "metadata": {
        "colab": {
          "base_uri": "https://localhost:8080/"
        },
        "id": "ByvMWQ6zFFOB",
        "outputId": "73615733-1c24-4183-81b9-6de4c633d5c0"
      },
      "execution_count": 9,
      "outputs": [
        {
          "output_type": "stream",
          "name": "stdout",
          "text": [
            "My favourite animal is a dog. A dog has sharp teeth so that it can eat flesh very easily. Do you know my pet dog's name? I love my pet very much.\n",
            "My name is Mazid. Do you what my surname is? It's Zomader \n"
          ]
        }
      ]
    }
  ]
}